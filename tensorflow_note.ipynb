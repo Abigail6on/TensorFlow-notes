{
  "nbformat": 4,
  "nbformat_minor": 0,
  "metadata": {
    "colab": {
      "name": "tensorflow note.ipynb",
      "provenance": [],
      "collapsed_sections": [
        "2uUJ0qtoFSe7",
        "4W8gitWPJM0b",
        "OzMwYMYh318G",
        "CaXcoEXxWYZc",
        "HESdEFInpPEW",
        "-k5XfZiewVFP",
        "g43iDCn34oG3",
        "yJbp_R75Bxoq",
        "j7D7mau0F-pb",
        "BvdS-S5fGZiF",
        "M59KYI4TAf4r",
        "0dEPJFn9CCzZ",
        "uQQezAwXEdFf",
        "g04rU-LBF0Tw",
        "mgTAPyp7IC8I"
      ]
    },
    "kernelspec": {
      "name": "python3",
      "display_name": "Python 3"
    }
  },
  "cells": [
    {
      "cell_type": "code",
      "metadata": {
        "id": "P-U8DkZOB2hM",
        "colab_type": "code",
        "colab": {}
      },
      "source": [
        "%tensorflow_version 2.x \n"
      ],
      "execution_count": 0,
      "outputs": []
    },
    {
      "cell_type": "code",
      "metadata": {
        "id": "VfpEQcj1Cjqo",
        "colab_type": "code",
        "outputId": "7697ed89-6124-449d-d550-9fe4ea45b5a4",
        "colab": {
          "base_uri": "https://localhost:8080/",
          "height": 54
        }
      },
      "source": [
        "import tensorflow as tf\n",
        "print(tf.version)"
      ],
      "execution_count": 0,
      "outputs": [
        {
          "output_type": "stream",
          "text": [
            "<module 'tensorflow._api.v2.version' from '/usr/local/lib/python3.6/dist-packages/tensorflow/_api/v2/version/__init__.py'>\n"
          ],
          "name": "stdout"
        }
      ]
    },
    {
      "cell_type": "code",
      "metadata": {
        "id": "wQsVuBYArAfy",
        "colab_type": "code",
        "colab": {}
      },
      "source": [
        "string = tf.Variable(\"This is a string\", tf.string)\n",
        "number = tf.Variable(768, tf.int16)\n",
        "floating = tf.Variable(3.5874, tf.float64)"
      ],
      "execution_count": 0,
      "outputs": []
    },
    {
      "cell_type": "markdown",
      "metadata": {
        "id": "9nrp5ETaxqtG",
        "colab_type": "text"
      },
      "source": [
        " Create some tensors with higher ranks"
      ]
    },
    {
      "cell_type": "code",
      "metadata": {
        "id": "4jhkxksCwSIL",
        "colab_type": "code",
        "colab": {}
      },
      "source": [
        " rank1_tensor = tf.Variable([\"Test\"], tf.string)\n",
        " rank2_tensor = tf.Variable([[\"Test\", \"OK\"],[\"Test\", \"YES\"]], tf.string)"
      ],
      "execution_count": 0,
      "outputs": []
    },
    {
      "cell_type": "markdown",
      "metadata": {
        "id": "yoPhe0_Lywr4",
        "colab_type": "text"
      },
      "source": [
        "Determine the rank of the tensor"
      ]
    },
    {
      "cell_type": "code",
      "metadata": {
        "id": "FIQ8vc-azC8q",
        "colab_type": "code",
        "outputId": "300da44a-e0b3-4a06-ce71-095458c8c152",
        "colab": {
          "base_uri": "https://localhost:8080/",
          "height": 34
        }
      },
      "source": [
        "tf.rank(rank2_tensor)"
      ],
      "execution_count": 0,
      "outputs": [
        {
          "output_type": "execute_result",
          "data": {
            "text/plain": [
              "<tf.Tensor: shape=(), dtype=int32, numpy=2>"
            ]
          },
          "metadata": {
            "tags": []
          },
          "execution_count": 5
        }
      ]
    },
    {
      "cell_type": "markdown",
      "metadata": {
        "id": "fm1ICfIGztUs",
        "colab_type": "text"
      },
      "source": [
        "Get the shape of a tensor\n"
      ]
    },
    {
      "cell_type": "code",
      "metadata": {
        "id": "25kgsr8EzzLp",
        "colab_type": "code",
        "outputId": "b780e7ef-cc58-424c-e284-6efdc8252a59",
        "colab": {
          "base_uri": "https://localhost:8080/",
          "height": 34
        }
      },
      "source": [
        "rank2_tensor.shape"
      ],
      "execution_count": 0,
      "outputs": [
        {
          "output_type": "execute_result",
          "data": {
            "text/plain": [
              "TensorShape([2, 2])"
            ]
          },
          "metadata": {
            "tags": []
          },
          "execution_count": 6
        }
      ]
    },
    {
      "cell_type": "markdown",
      "metadata": {
        "id": "akNHQ2Qh0z9-",
        "colab_type": "text"
      },
      "source": [
        "Change the shape of the tensor"
      ]
    },
    {
      "cell_type": "code",
      "metadata": {
        "id": "iASzE_g603jD",
        "colab_type": "code",
        "outputId": "849b96e4-24d7-4ad1-fe7c-409d61080185",
        "colab": {
          "base_uri": "https://localhost:8080/",
          "height": 223
        }
      },
      "source": [
        "tensor1 = tf.ones([1, 2, 3])\n",
        "tensor2 = tf.reshape(tensor1, [2,3,1])\n",
        "tensor3 = tf.reshape(tensor2 ,[3, -1])\n",
        "print(tensor2)\n",
        "print(tensor3)"
      ],
      "execution_count": 0,
      "outputs": [
        {
          "output_type": "stream",
          "text": [
            "tf.Tensor(\n",
            "[[[1.]\n",
            "  [1.]\n",
            "  [1.]]\n",
            "\n",
            " [[1.]\n",
            "  [1.]\n",
            "  [1.]]], shape=(2, 3, 1), dtype=float32)\n",
            "tf.Tensor(\n",
            "[[1. 1.]\n",
            " [1. 1.]\n",
            " [1. 1.]], shape=(3, 2), dtype=float32)\n"
          ],
          "name": "stdout"
        }
      ]
    },
    {
      "cell_type": "markdown",
      "metadata": {
        "id": "teGOiqjN-HjN",
        "colab_type": "text"
      },
      "source": [
        "Creating a 2D tensor"
      ]
    },
    {
      "cell_type": "code",
      "metadata": {
        "id": "SrkJXnAG-Ico",
        "colab_type": "code",
        "outputId": "3d4594f4-3afe-40f8-bfe1-955af297cbb9",
        "colab": {
          "base_uri": "https://localhost:8080/",
          "height": 51
        }
      },
      "source": [
        "matrix = [[1,2,3,4,5],\n",
        "          [6,7,8,9,10],\n",
        "          [11,12,13,14,15],\n",
        "          [16,17,18,19,20]]\n",
        "tensor = tf.Variable(matrix, dtype = tf.int32)\n",
        "print(tf.rank(tensor))\n",
        "print(tensor.shape)"
      ],
      "execution_count": 0,
      "outputs": [
        {
          "output_type": "stream",
          "text": [
            "tf.Tensor(2, shape=(), dtype=int32)\n",
            "(4, 5)\n"
          ],
          "name": "stdout"
        }
      ]
    },
    {
      "cell_type": "markdown",
      "metadata": {
        "id": "hX0gkfXgBE5u",
        "colab_type": "text"
      },
      "source": [
        "Select some different rows and columns from our tensor"
      ]
    },
    {
      "cell_type": "code",
      "metadata": {
        "id": "-Imx-ki4BG_h",
        "colab_type": "code",
        "outputId": "62c0c30e-d0ca-48ed-c1d4-68ad31021355",
        "colab": {
          "base_uri": "https://localhost:8080/",
          "height": 137
        }
      },
      "source": [
        "three = tensor[0,2]  # selects the 3rd element from the 1st row\n",
        "print(three)  # -> 3\n",
        "\n",
        "row1 = tensor[0]  # selects the first row\n",
        "print(row1)\n",
        "\n",
        "column1 = tensor[:, 0]  # selects the first column\n",
        "print(column1)\n",
        "\n",
        "row_2_and_4 = tensor[1::2]  # selects second and fourth row\n",
        "print(row_2_and_4)\n",
        "\n",
        "column_1_in_row_2_and_3 = tensor[1:3, 0]\n",
        "print(column_1_in_row_2_and_3)"
      ],
      "execution_count": 0,
      "outputs": [
        {
          "output_type": "stream",
          "text": [
            "tf.Tensor(3, shape=(), dtype=int32)\n",
            "tf.Tensor([1 2 3 4 5], shape=(5,), dtype=int32)\n",
            "tf.Tensor([ 1  6 11 16], shape=(4,), dtype=int32)\n",
            "tf.Tensor(\n",
            "[[ 6  7  8  9 10]\n",
            " [16 17 18 19 20]], shape=(2, 5), dtype=int32)\n",
            "tf.Tensor([ 6 11], shape=(2,), dtype=int32)\n"
          ],
          "name": "stdout"
        }
      ]
    },
    {
      "cell_type": "markdown",
      "metadata": {
        "id": "NJ9Wf_43CTi6",
        "colab_type": "text"
      },
      "source": [
        "Types of Tensors\n",
        "1. Variable\n",
        "2. Constant\n",
        "3. Placeholder\n",
        "4. SparseTensor\n",
        "\n",
        "\n",
        "\n"
      ]
    },
    {
      "cell_type": "markdown",
      "metadata": {
        "id": "qbHHy1fIDzy_",
        "colab_type": "text"
      },
      "source": [
        "**TensorFlow Core Learning Algorithms**\n",
        "The algorithms we will focus on include:\n",
        "\n",
        "1. Linear Regression\n",
        "2. Classification\n",
        "3. Clustering\n",
        "4. Hidden Markov Models"
      ]
    },
    {
      "cell_type": "markdown",
      "metadata": {
        "id": "2uUJ0qtoFSe7",
        "colab_type": "text"
      },
      "source": [
        "# **1. Linear Regression**\n",
        "Linear regression follows a very simple concept. If data points are related linearly, we can generate a line of best fit for these points and use it to predict future values."
      ]
    },
    {
      "cell_type": "code",
      "metadata": {
        "id": "wh33eiOpFWtP",
        "colab_type": "code",
        "outputId": "d5ccc1d7-ba07-416d-83d6-36bf797c99a3",
        "colab": {
          "base_uri": "https://localhost:8080/"
        }
      },
      "source": [
        "import matplotlib.pyplot as plt\n",
        "import numpy as np\n",
        "\n",
        "x = [1, 2, 2.5, 3, 4]\n",
        "y = [1, 4, 7, 9, 15]\n",
        "plt.plot(x, y, \"ro\")\n",
        "plt.axis([0, 6, 0, 20])"
      ],
      "execution_count": 0,
      "outputs": [
        {
          "output_type": "execute_result",
          "data": {
            "text/plain": [
              "(0.0, 6.0, 0.0, 20.0)"
            ]
          },
          "metadata": {
            "tags": []
          },
          "execution_count": 10
        },
        {
          "output_type": "display_data",
          "data": {
            "image/png": "[encoded data removed]",
            "text/plain": [
              "<Figure size 432x288 with 1 Axes>"
            ]
          },
          "metadata": {
            "tags": []
          }
        }
      ]
    },
    {
      "cell_type": "markdown",
      "metadata": {
        "id": "LTW_qLkWHCKP",
        "colab_type": "text"
      },
      "source": [
        "Here's a refresher on the equation of a line in 2D.\n",
        "\n",
        "𝑦=𝑚𝑥+𝑏 \n",
        "\n",
        "Here's an example of a line of best fit for this graph."
      ]
    },
    {
      "cell_type": "code",
      "metadata": {
        "id": "RRxri_X4HDlI",
        "colab_type": "code",
        "outputId": "70f2f47c-bbd7-42a5-fc43-94b5d3eb25c2",
        "colab": {
          "base_uri": "https://localhost:8080/"
        }
      },
      "source": [
        "plt.plot(x, y, \"ro\")\n",
        "plt.axis([0, 6, 0, 20])\n",
        "plt.plot(np.unique(x), np.poly1d(np.polyfit(x, y, 1))(np.unique(x)))\n",
        "plt.show()"
      ],
      "execution_count": 0,
      "outputs": [
        {
          "output_type": "display_data",
          "data": {
            "image/png": "[encoded data removed]",
            "text/plain": [
              "<Figure size 432x288 with 1 Axes>"
            ]
          },
          "metadata": {
            "tags": []
          }
        }
      ]
    },
    {
      "cell_type": "markdown",
      "metadata": {
        "id": "4W8gitWPJM0b",
        "colab_type": "text"
      },
      "source": [
        "# Setup and Imports\n",
        "Before we get started we must install sklearn and import the following modules."
      ]
    },
    {
      "cell_type": "code",
      "metadata": {
        "id": "U_mOwchWJbjt",
        "colab_type": "code",
        "colab": {}
      },
      "source": [
        "!pip install -q sklearn\n",
        "%tensorflow_version 2.x"
      ],
      "execution_count": 0,
      "outputs": []
    },
    {
      "cell_type": "code",
      "metadata": {
        "id": "dE4mkoADJpB2",
        "colab_type": "code",
        "colab": {}
      },
      "source": [
        "from __future__ import absolute_import, division, print_function, unicode_literals\n",
        "\n",
        "import numpy as np\n",
        "import pandas as pd\n",
        "import matplotlib.pyplot as plt\n",
        "from IPython.display import clear_output\n",
        "from six.moves import urllib\n",
        "\n",
        "import tensorflow.compat.v2.feature_column as fc\n",
        "\n",
        "import tensorflow as tf"
      ],
      "execution_count": 0,
      "outputs": []
    },
    {
      "cell_type": "markdown",
      "metadata": {
        "id": "OzMwYMYh318G",
        "colab_type": "text"
      },
      "source": [
        "# Data"
      ]
    },
    {
      "cell_type": "code",
      "metadata": {
        "id": "P54P_qzY36hT",
        "colab_type": "code",
        "colab": {}
      },
      "source": [
        "# Load dataset.\n",
        "dftrain = pd.read_csv('https://storage.googleapis.com/tf-datasets/titanic/train.csv')\n",
        "dfeval = pd.read_csv('https://storage.googleapis.com/tf-datasets/titanic/eval.csv')\n",
        "#print(dftrain)\n",
        "#y_train = dftrain.pop(\"survived\")\n",
        "#y_eval = dfeval.pop(\"survived\")"
      ],
      "execution_count": 0,
      "outputs": []
    },
    {
      "cell_type": "code",
      "metadata": {
        "id": "nGigxcfs7MsN",
        "colab_type": "code",
        "outputId": "2de6094f-4dae-4dab-b053-6f12fbcf133f",
        "colab": {
          "base_uri": "https://localhost:8080/"
        }
      },
      "source": [
        "print(dftrain)\n",
        "dftrain.to_csv()"
      ],
      "execution_count": 0,
      "outputs": [
        {
          "output_type": "stream",
          "text": [
            "     survived     sex   age  ...     deck  embark_town  alone\n",
            "0           0    male  22.0  ...  unknown  Southampton      n\n",
            "1           1  female  38.0  ...        C    Cherbourg      n\n",
            "2           1  female  26.0  ...  unknown  Southampton      y\n",
            "3           1  female  35.0  ...        C  Southampton      n\n",
            "4           0    male  28.0  ...  unknown   Queenstown      y\n",
            "..        ...     ...   ...  ...      ...          ...    ...\n",
            "622         0    male  28.0  ...  unknown  Southampton      y\n",
            "623         0    male  25.0  ...  unknown  Southampton      y\n",
            "624         1  female  19.0  ...        B  Southampton      y\n",
            "625         0  female  28.0  ...  unknown  Southampton      n\n",
            "626         0    male  32.0  ...  unknown   Queenstown      y\n",
            "\n",
            "[627 rows x 10 columns]\n"
          ],
          "name": "stdout"
        },
        {
          "output_type": "execute_result",
          "data": {
            "text/plain": [
              "',survived,sex,age,n_siblings_spouses,parch,fare,class,deck,embark_town,alone\\n0,0,male,22.0,1,0,7.25,Third,unknown,Southampton,n\\n1,1,female,38.0,1,0,71.2833,First,C,Cherbourg,n\\n2,1,female,26.0,0,0,7.925,Third,unknown,Southampton,y\\n3,1,female,35.0,1,0,53.1,First,C,Southampton,n\\n4,0,male,28.0,0,0,8.4583,Third,unknown,Queenstown,y\\n5,0,male,2.0,3,1,21.075,Third,unknown,Southampton,n\\n6,1,female,27.0,0,2,11.1333,Third,unknown,Southampton,n\\n7,1,female,14.0,1,0,30.0708,Second,unknown,Cherbourg,n\\n8,1,female,4.0,1,1,16.7,Third,G,Southampton,n\\n9,0,male,20.0,0,0,8.05,Third,unknown,Southampton,y\\n10,0,male,39.0,1,5,31.275,Third,unknown,Southampton,n\\n11,0,female,14.0,0,0,7.8542,Third,unknown,Southampton,y\\n12,0,male,2.0,4,1,29.125,Third,unknown,Queenstown,n\\n13,1,male,28.0,0,0,13.0,Second,unknown,Southampton,y\\n14,0,female,31.0,1,0,18.0,Third,unknown,Southampton,n\\n15,1,female,28.0,0,0,7.225,Third,unknown,Cherbourg,y\\n16,0,male,35.0,0,0,26.0,Second,unknown,Southampton,y\\n17,1,male,28.0,0,0,35.5,First,A,Southampton,y\\n18,1,female,38.0,1,5,31.3875,Third,unknown,Southampton,n\\n19,0,male,28.0,0,0,7.225,Third,unknown,Cherbourg,y\\n20,0,male,19.0,3,2,263.0,First,C,Southampton,n\\n21,1,female,28.0,0,0,7.8792,Third,unknown,Queenstown,y\\n22,0,male,28.0,0,0,7.8958,Third,unknown,Southampton,y\\n23,0,male,40.0,0,0,27.7208,First,unknown,Cherbourg,y\\n24,1,female,28.0,1,0,146.5208,First,B,Cherbourg,n\\n25,1,female,28.0,0,0,7.75,Third,unknown,Queenstown,y\\n26,0,male,66.0,0,0,10.5,Second,unknown,Southampton,y\\n27,0,male,28.0,1,0,82.1708,First,unknown,Cherbourg,n\\n28,0,male,42.0,1,0,52.0,First,unknown,Southampton,n\\n29,1,male,28.0,0,0,7.2292,Third,unknown,Cherbourg,y\\n30,1,female,14.0,1,0,11.2417,Third,unknown,Cherbourg,n\\n31,0,female,40.0,1,0,9.475,Third,unknown,Southampton,n\\n32,0,female,27.0,1,0,21.0,Second,unknown,Southampton,n\\n33,0,male,28.0,0,0,7.8958,Third,unknown,Cherbourg,y\\n34,1,female,3.0,1,2,41.5792,Second,unknown,Cherbourg,n\\n35,0,male,28.0,0,0,8.05,Third,unknown,Southampton,y\\n36,0,male,28.0,1,0,15.5,Third,unknown,Queenstown,n\\n37,0,male,28.0,2,0,21.6792,Third,unknown,Cherbourg,n\\n38,0,female,18.0,1,0,17.8,Third,unknown,Southampton,n\\n39,0,male,7.0,4,1,39.6875,Third,unknown,Southampton,n\\n40,1,female,49.0,1,0,76.7292,First,D,Cherbourg,n\\n41,1,female,29.0,1,0,26.0,Second,unknown,Southampton,n\\n42,0,male,65.0,0,1,61.9792,First,B,Cherbourg,n\\n43,1,male,28.0,0,0,35.5,First,C,Southampton,y\\n44,1,female,21.0,0,0,10.5,Second,unknown,Southampton,y\\n45,0,male,28.5,0,0,7.2292,Third,unknown,Cherbourg,y\\n46,0,male,11.0,5,2,46.9,Third,unknown,Southampton,n\\n47,0,male,22.0,0,0,7.2292,Third,unknown,Cherbourg,y\\n48,1,female,38.0,0,0,80.0,First,B,unknown,y\\n49,0,male,45.0,1,0,83.475,First,C,Southampton,n\\n50,0,male,4.0,3,2,27.9,Third,unknown,Southampton,n\\n51,1,male,28.0,1,1,15.2458,Third,unknown,Cherbourg,n\\n52,0,male,19.0,0,0,8.1583,Third,unknown,Southampton,y\\n53,1,female,17.0,4,2,7.925,Third,unknown,Southampton,n\\n54,0,male,26.0,2,0,8.6625,Third,unknown,Southampton,n\\n55,0,male,32.0,0,0,10.5,Second,unknown,Southampton,y\\n56,0,male,21.0,0,0,73.5,Second,unknown,Southampton,y\\n57,1,male,32.0,0,0,56.4958,Third,unknown,Southampton,y\\n58,0,male,25.0,0,0,7.65,Third,F,Southampton,y\\n59,0,male,28.0,0,0,7.8958,Third,unknown,Southampton,y\\n60,0,male,28.0,0,0,8.05,Third,unknown,Southampton,y\\n61,1,male,0.83,0,2,29.0,Second,unknown,Southampton,n\\n62,1,female,30.0,0,0,12.475,Third,unknown,Southampton,y\\n63,0,male,22.0,0,0,9.0,Third,unknown,Southampton,y\\n64,1,male,29.0,0,0,9.5,Third,unknown,Southampton,y\\n65,1,female,28.0,0,0,7.7875,Third,unknown,Queenstown,y\\n66,0,male,28.0,0,0,47.1,First,unknown,Southampton,y\\n67,0,male,16.0,1,3,34.375,Third,unknown,Southampton,n\\n68,0,male,28.0,0,0,8.05,Third,unknown,Southampton,y\\n69,1,female,23.0,3,2,263.0,First,C,Southampton,n\\n70,0,male,24.0,0,0,8.05,Third,unknown,Southampton,y\\n71,0,male,46.0,1,0,61.175,First,E,Southampton,n\\n72,0,male,59.0,0,0,7.25,Third,unknown,Southampton,y\\n73,0,male,28.0,0,0,8.05,Third,unknown,Southampton,y\\n74,0,male,71.0,0,0,34.6542,First,A,Cherbourg,y\\n75,1,male,23.0,0,1,63.3583,First,D,Cherbourg,n\\n76,1,female,34.0,0,1,23.0,Second,unknown,Southampton,n\\n77,0,male,34.0,1,0,26.0,Second,unknown,Southampton,n\\n78,0,female,28.0,0,0,7.8958,Third,unknown,Southampton,y\\n79,0,male,28.0,0,0,7.8958,Third,unknown,Southampton,y\\n80,0,male,21.0,0,1,77.2875,First,D,Southampton,n\\n81,0,male,33.0,0,0,8.6542,Third,unknown,Southampton,y\\n82,0,male,37.0,2,0,7.925,Third,unknown,Southampton,n\\n83,0,male,28.0,0,0,7.8958,Third,unknown,Southampton,y\\n84,1,male,28.0,0,0,7.775,Third,unknown,Southampton,y\\n85,1,female,28.0,1,0,24.15,Third,unknown,Queenstown,n\\n86,0,male,47.0,0,0,52.0,First,C,Southampton,y\\n87,0,female,14.5,1,0,14.4542,Third,unknown,Cherbourg,n\\n88,0,male,22.0,0,0,8.05,Third,unknown,Southampton,y\\n89,0,female,17.0,0,0,14.4583,Third,unknown,Cherbourg,y\\n90,0,male,21.0,0,0,7.925,Third,unknown,Southampton,y\\n91,0,male,70.5,0,0,7.75,Third,unknown,Queenstown,y\\n92,0,male,29.0,1,0,21.0,Second,unknown,Southampton,n\\n93,0,male,24.0,0,1,247.5208,First,B,Cherbourg,n\\n94,0,male,28.0,0,0,8.05,Third,unknown,Southampton,y\\n95,0,male,32.5,1,0,30.0708,Second,unknown,Cherbourg,n\\n96,1,female,32.5,0,0,13.0,Second,E,Southampton,y\\n97,0,male,28.0,0,0,7.75,Third,unknown,Queenstown,y\\n98,1,male,24.0,0,0,7.1417,Third,unknown,Southampton,y\\n99,0,male,45.0,0,0,6.975,Third,unknown,Southampton,y\\n100,0,male,20.0,0,0,7.05,Third,unknown,Southampton,y\\n101,0,female,47.0,1,0,14.5,Third,unknown,Southampton,n\\n102,0,male,23.0,0,0,15.0458,Second,unknown,Cherbourg,y\\n103,1,female,19.0,0,2,26.2833,First,D,Southampton,n\\n104,0,male,37.0,1,0,53.1,First,C,Southampton,n\\n105,0,male,16.0,0,0,9.2167,Third,unknown,Southampton,y\\n106,0,male,24.0,0,0,79.2,First,B,Cherbourg,y\\n107,0,female,28.0,0,2,15.2458,Third,unknown,Cherbourg,n\\n108,1,female,22.0,0,0,7.75,Third,unknown,Southampton,y\\n109,0,male,19.0,0,0,6.75,Third,unknown,Queenstown,y\\n110,0,male,18.0,0,0,11.5,Second,unknown,Southampton,y\\n111,0,female,9.0,2,2,34.375,Third,unknown,Southampton,n\\n112,0,male,51.0,0,0,12.525,Second,unknown,Southampton,y\\n113,0,male,55.5,0,0,8.05,Third,unknown,Southampton,y\\n114,0,male,40.5,0,2,14.5,Third,unknown,Southampton,n\\n115,0,male,28.0,0,0,7.3125,Third,unknown,Southampton,y\\n116,0,male,51.0,0,1,61.3792,First,unknown,Cherbourg,n\\n117,1,female,16.0,0,0,7.7333,Third,unknown,Queenstown,y\\n118,0,male,28.0,0,0,8.6625,Third,unknown,Southampton,y\\n119,0,male,28.0,8,2,69.55,Third,unknown,Southampton,n\\n120,0,male,44.0,0,1,16.1,Third,unknown,Southampton,n\\n121,0,male,26.0,0,0,7.775,Third,unknown,Southampton,y\\n122,0,male,17.0,0,0,8.6625,Third,unknown,Southampton,y\\n123,0,male,1.0,4,1,39.6875,Third,unknown,Southampton,n\\n124,1,female,28.0,0,1,55.0,First,E,Southampton,n\\n125,0,male,28.0,0,0,56.4958,Third,unknown,Southampton,y\\n126,0,male,4.0,4,1,29.125,Third,unknown,Queenstown,n\\n127,0,male,18.0,1,1,7.8542,Third,unknown,Southampton,n\\n128,0,male,28.0,3,1,25.4667,Third,unknown,Southampton,n\\n129,0,female,50.0,0,0,28.7125,First,C,Cherbourg,y\\n130,0,male,30.0,0,0,13.0,Second,unknown,Southampton,y\\n131,0,male,36.0,0,0,0.0,Third,unknown,Southampton,y\\n132,0,female,28.0,8,2,69.55,Third,unknown,Southampton,n\\n133,0,male,28.0,0,0,15.05,Second,unknown,Cherbourg,y\\n134,0,male,9.0,4,2,31.3875,Third,unknown,Southampton,n\\n135,1,female,4.0,0,2,22.025,Third,unknown,Southampton,n\\n136,1,female,28.0,1,0,15.5,Third,unknown,Queenstown,n\\n137,1,male,45.0,0,0,26.55,First,unknown,Southampton,y\\n138,0,male,36.0,0,0,7.8958,Third,unknown,Southampton,y\\n139,1,female,32.0,0,0,13.0,Second,unknown,Southampton,y\\n140,1,female,19.0,1,0,7.8542,Third,unknown,Southampton,n\\n141,1,male,3.0,1,1,26.0,Second,F,Southampton,n\\n142,1,female,44.0,0,0,27.7208,First,B,Cherbourg,y\\n143,1,female,58.0,0,0,146.5208,First,B,Cherbourg,y\\n144,0,male,28.0,0,0,7.75,Third,unknown,Queenstown,y\\n145,1,female,28.0,0,0,7.75,Third,unknown,Queenstown,y\\n146,0,female,24.0,0,0,13.0,Second,unknown,Southampton,y\\n147,0,male,28.0,0,0,9.5,Third,unknown,Southampton,y\\n148,0,male,28.0,8,2,69.55,Third,unknown,Southampton,n\\n149,0,male,34.0,0,0,6.4958,Third,unknown,Southampton,y\\n150,0,female,2.0,0,1,10.4625,Third,G,Southampton,n\\n151,0,male,32.0,1,0,15.85,Third,unknown,Southampton,n\\n152,1,male,26.0,0,0,18.7875,Third,unknown,Cherbourg,y\\n153,1,female,16.0,0,0,7.75,Third,unknown,Queenstown,y\\n154,1,male,40.0,0,0,31.0,First,A,Cherbourg,y\\n155,1,female,35.0,0,0,21.0,Second,unknown,Southampton,y\\n156,0,male,22.0,0,0,7.25,Third,unknown,Southampton,y\\n157,0,male,28.0,1,0,7.75,Third,unknown,Queenstown,n\\n158,1,female,31.0,1,0,113.275,First,D,Cherbourg,n\\n159,1,female,27.0,0,0,7.925,Third,unknown,Southampton,y\\n160,0,male,42.0,1,0,27.0,Second,unknown,Southampton,n\\n161,0,male,30.0,0,0,10.5,Second,unknown,Southampton,y\\n162,1,male,16.0,0,0,8.05,Third,unknown,Southampton,y\\n163,0,male,51.0,0,0,8.05,Third,unknown,Southampton,y\\n164,0,male,22.0,0,0,9.35,Third,unknown,Southampton,y\\n165,1,male,19.0,0,0,10.5,Second,unknown,Southampton,y\\n166,0,male,20.5,0,0,7.25,Third,unknown,Southampton,y\\n167,0,male,18.0,0,0,13.0,Second,unknown,Southampton,y\\n168,0,female,28.0,3,1,25.4667,Third,unknown,Southampton,n\\n169,1,female,35.0,1,0,83.475,First,C,Southampton,n\\n170,0,male,29.0,0,0,7.775,Third,unknown,Southampton,y\\n171,0,male,59.0,0,0,13.5,Second,unknown,Southampton,y\\n172,0,female,28.0,0,0,7.55,Third,unknown,Southampton,y\\n173,0,male,44.0,1,0,26.0,Second,unknown,Southampton,n\\n174,0,male,19.0,0,0,10.5,Second,unknown,Southampton,y\\n175,0,male,33.0,0,0,12.275,Second,unknown,Southampton,y\\n176,0,female,28.0,1,0,14.4542,Third,unknown,Cherbourg,n\\n177,1,female,28.0,1,0,15.5,Third,unknown,Queenstown,n\\n178,0,male,22.0,0,0,7.125,Third,unknown,Southampton,y\\n179,0,male,30.0,0,0,7.225,Third,unknown,Cherbourg,y\\n180,0,male,44.0,2,0,90.0,First,C,Queenstown,n\\n181,1,female,24.0,0,2,14.5,Second,unknown,Southampton,n\\n182,0,male,28.0,0,0,7.25,Third,unknown,Southampton,y\\n183,0,female,29.0,1,1,10.4625,Third,G,Southampton,n\\n184,0,male,30.0,1,0,16.1,Third,unknown,Southampton,n\\n185,0,female,41.0,0,2,20.2125,Third,unknown,Southampton,n\\n186,1,female,28.0,0,0,79.2,First,unknown,Cherbourg,y\\n187,1,female,35.0,0,0,512.3292,First,unknown,Cherbourg,y\\n188,1,female,50.0,0,1,26.0,Second,unknown,Southampton,n\\n189,0,male,28.0,0,0,7.75,Third,unknown,Queenstown,y\\n190,1,male,3.0,4,2,31.3875,Third,unknown,Southampton,n\\n191,0,male,40.0,0,0,0.0,First,B,Southampton,y\\n192,0,female,28.0,0,0,7.75,Third,unknown,Queenstown,y\\n193,0,male,36.0,0,0,10.5,Second,unknown,Southampton,y\\n194,0,male,16.0,4,1,39.6875,Third,unknown,Southampton,n\\n195,1,male,25.0,1,0,7.775,Third,unknown,Southampton,n\\n196,1,female,58.0,0,1,153.4625,First,C,Southampton,n\\n197,1,female,35.0,0,0,135.6333,First,C,Southampton,y\\n198,0,male,28.0,0,0,31.0,First,unknown,Southampton,y\\n199,1,male,25.0,0,0,0.0,Third,unknown,Southampton,y\\n200,1,female,41.0,0,1,19.5,Second,unknown,Southampton,n\\n201,0,male,37.0,0,1,29.7,First,C,Cherbourg,n\\n202,1,female,28.0,0,0,7.75,Third,unknown,Queenstown,y\\n203,1,female,63.0,1,0,77.9583,First,D,Southampton,n\\n204,0,female,45.0,0,0,7.75,Third,unknown,Southampton,y\\n205,0,male,28.0,0,0,0.0,Second,unknown,Southampton,y\\n206,0,male,7.0,4,1,29.125,Third,unknown,Queenstown,n\\n207,1,female,35.0,1,1,20.25,Third,unknown,Southampton,n\\n208,0,male,28.0,0,0,7.8542,Third,unknown,Southampton,y\\n209,0,male,16.0,0,0,9.5,Third,unknown,Southampton,y\\n210,0,male,28.0,0,0,26.0,First,A,Southampton,y\\n211,1,female,26.0,0,0,78.85,First,unknown,Southampton,y\\n212,0,male,36.0,0,0,12.875,Second,D,Cherbourg,y\\n213,0,male,24.0,0,0,7.8958,Third,unknown,Southampton,y\\n214,1,male,28.0,0,0,30.5,First,C,Southampton,y\\n215,1,female,50.0,0,1,247.5208,First,B,Cherbourg,n\\n216,1,female,28.0,0,0,7.75,Third,unknown,Queenstown,y\\n217,0,male,19.0,0,0,0.0,Third,unknown,Southampton,y\\n218,1,female,28.0,0,0,12.35,Second,E,Queenstown,y\\n219,0,male,28.0,0,0,8.05,Third,unknown,Southampton,y\\n220,1,female,28.0,0,0,110.8833,First,unknown,Cherbourg,y\\n221,1,female,17.0,1,0,108.9,First,C,Cherbourg,n\\n222,0,male,30.0,1,0,24.0,Second,unknown,Cherbourg,n\\n223,1,female,30.0,0,0,56.9292,First,E,Cherbourg,y\\n224,1,female,24.0,0,0,83.1583,First,C,Cherbourg,y\\n225,1,female,18.0,2,2,262.375,First,B,Cherbourg,n\\n226,0,female,26.0,1,1,26.0,Second,unknown,Southampton,n\\n227,0,male,28.0,0,0,7.8958,Third,unknown,Southampton,y\\n228,0,male,43.0,1,1,26.25,Second,unknown,Southampton,n\\n229,1,female,24.0,1,0,26.0,Second,unknown,Southampton,n\\n230,1,female,31.0,0,2,164.8667,First,C,Southampton,n\\n231,1,female,40.0,1,1,134.5,First,E,Cherbourg,n\\n232,0,male,22.0,0,0,7.25,Third,unknown,Southampton,y\\n233,0,male,27.0,0,0,7.8958,Third,unknown,Southampton,y\\n234,1,female,22.0,1,1,29.0,Second,unknown,Southampton,n\\n235,0,male,28.0,8,2,69.55,Third,unknown,Southampton,n\\n236,1,female,36.0,0,0,135.6333,First,C,Cherbourg,y\\n237,0,male,61.0,0,0,6.2375,Third,unknown,Southampton,y\\n238,1,female,31.0,1,1,20.525,Third,unknown,Southampton,n\\n239,1,female,28.0,2,0,23.25,Third,unknown,Queenstown,n\\n240,0,male,38.0,0,1,153.4625,First,C,Southampton,n\\n241,1,female,28.0,1,0,133.65,First,unknown,Southampton,n\\n242,0,male,28.0,0,0,7.8958,Third,unknown,Southampton,y\\n243,0,male,29.0,1,0,66.6,First,C,Southampton,n\\n244,1,male,45.0,0,0,8.05,Third,unknown,Southampton,y\\n245,0,male,45.0,0,0,35.5,First,unknown,Southampton,y\\n246,0,male,28.0,0,0,13.0,Second,unknown,Southampton,y\\n247,0,male,25.0,0,0,13.0,Second,unknown,Southampton,y\\n248,0,male,36.0,0,0,13.0,Second,unknown,Southampton,y\\n249,1,female,24.0,0,0,13.0,Second,F,Southampton,y\\n250,1,female,40.0,0,0,13.0,Second,unknown,Southampton,y\\n251,1,female,28.0,1,0,16.1,Third,unknown,Southampton,n\\n252,0,male,15.0,1,1,7.2292,Third,unknown,Cherbourg,n\\n253,0,male,25.0,1,0,17.8,Third,unknown,Southampton,n\\n254,0,male,28.0,0,0,7.225,Third,unknown,Cherbourg,y\\n255,0,male,28.0,0,0,9.5,Third,unknown,Southampton,y\\n256,1,female,22.0,0,1,55.0,First,E,Southampton,n\\n257,0,female,38.0,0,0,13.0,Second,unknown,Southampton,y\\n258,1,female,28.0,0,0,7.8792,Third,unknown,Queenstown,y\\n259,1,female,28.0,0,0,7.8792,Third,unknown,Queenstown,y\\n260,0,male,40.0,1,4,27.9,Third,unknown,Southampton,n\\n261,0,male,29.0,1,0,27.7208,Second,unknown,Cherbourg,n\\n262,0,female,45.0,0,1,14.4542,Third,unknown,Cherbourg,n\\n263,0,male,35.0,0,0,7.05,Third,unknown,Southampton,y\\n264,0,male,28.0,1,0,15.5,Third,unknown,Queenstown,n\\n265,1,female,60.0,1,0,75.25,First,D,Cherbourg,n\\n266,1,female,28.0,0,0,7.2292,Third,unknown,Cherbourg,y\\n267,1,female,28.0,0,0,7.75,Third,unknown,Queenstown,y\\n268,1,female,24.0,0,0,69.3,First,B,Cherbourg,y\\n269,0,male,18.0,1,0,6.4958,Third,unknown,Southampton,n\\n270,0,male,19.0,0,0,8.05,Third,unknown,Southampton,y\\n271,1,female,28.0,1,0,82.1708,First,unknown,Cherbourg,n\\n272,0,male,27.0,0,2,211.5,First,C,Cherbourg,n\\n273,0,male,19.0,0,0,7.775,Third,unknown,Southampton,y\\n274,1,female,42.0,0,0,227.525,First,unknown,Cherbourg,y\\n275,0,male,32.0,0,0,7.925,Third,unknown,Southampton,y\\n276,0,male,28.0,0,0,7.8958,Third,unknown,Southampton,y\\n277,0,male,18.0,0,0,73.5,Second,unknown,Southampton,y\\n278,0,male,1.0,5,2,46.9,Third,unknown,Southampton,n\\n279,0,male,28.0,0,0,7.7292,Third,unknown,Queenstown,y\\n280,1,female,17.0,0,0,12.0,Second,unknown,Cherbourg,y\\n281,1,male,36.0,1,2,120.0,First,B,Southampton,n\\n282,1,male,21.0,0,0,7.7958,Third,unknown,Southampton,y\\n283,1,female,23.0,1,0,113.275,First,D,Cherbourg,n\\n284,1,female,24.0,0,2,16.7,Third,G,Southampton,n\\n285,0,male,22.0,0,0,7.7958,Third,unknown,Southampton,y\\n286,0,female,31.0,0,0,7.8542,Third,unknown,Southampton,y\\n287,0,male,46.0,0,0,26.0,Second,unknown,Southampton,y\\n288,0,male,23.0,0,0,10.5,Second,unknown,Southampton,y\\n289,1,male,39.0,0,0,7.925,Third,unknown,Southampton,y\\n290,0,male,26.0,0,0,8.05,Third,unknown,Southampton,y\\n291,0,male,28.0,1,0,15.85,Third,unknown,Southampton,n\\n292,0,male,34.0,1,0,21.0,Second,unknown,Southampton,n\\n293,1,male,3.0,1,1,18.75,Second,unknown,Southampton,n\\n294,0,male,21.0,0,0,7.775,Third,unknown,Southampton,y\\n295,0,female,28.0,3,1,25.4667,Third,unknown,Southampton,n\\n296,0,male,28.0,0,0,7.8958,Third,unknown,Southampton,y\\n297,0,male,28.0,0,0,6.8583,Third,unknown,Queenstown,y\\n298,0,male,28.0,0,0,0.0,Second,unknown,Southampton,y\\n299,1,male,44.0,0,0,7.925,Third,unknown,Southampton,y\\n300,0,female,28.0,0,0,8.05,Third,unknown,Southampton,y\\n301,1,female,34.0,1,1,32.5,Second,unknown,Southampton,n\\n302,1,female,18.0,0,2,13.0,Second,unknown,Southampton,n\\n303,0,male,30.0,0,0,13.0,Second,unknown,Southampton,y\\n304,0,male,28.0,0,0,7.8958,Third,unknown,Cherbourg,y\\n305,0,male,21.0,0,0,7.7333,Third,unknown,Queenstown,y\\n306,0,male,18.0,1,1,20.2125,Third,unknown,Southampton,n\\n307,1,female,19.0,0,0,26.0,Second,unknown,Southampton,y\\n308,0,male,28.0,0,0,7.75,Third,unknown,Queenstown,y\\n309,1,male,32.0,0,0,8.05,Third,E,Southampton,y\\n310,1,male,28.0,0,0,26.55,First,C,Southampton,y\\n311,1,female,28.0,1,0,16.1,Third,unknown,Southampton,n\\n312,1,female,42.0,1,0,26.0,Second,unknown,Southampton,n\\n313,0,male,17.0,0,0,7.125,Third,unknown,Southampton,y\\n314,0,male,50.0,1,0,55.9,First,E,Southampton,n\\n315,1,female,14.0,1,2,120.0,First,B,Southampton,n\\n316,1,female,24.0,2,3,18.75,Second,unknown,Southampton,n\\n317,0,male,64.0,1,4,263.0,First,C,Southampton,n\\n318,0,male,31.0,0,0,10.5,Second,unknown,Southampton,y\\n319,1,female,45.0,1,1,26.25,Second,unknown,Southampton,n\\n320,0,male,20.0,0,0,9.5,Third,unknown,Southampton,y\\n321,1,female,28.0,0,0,13.0,Second,unknown,Southampton,y\\n322,1,male,28.0,0,0,8.1125,Third,unknown,Southampton,y\\n323,1,male,34.0,0,0,26.55,First,unknown,Southampton,y\\n324,1,female,5.0,2,1,19.2583,Third,unknown,Cherbourg,n\\n325,1,male,52.0,0,0,30.5,First,C,Southampton,y\\n326,0,male,36.0,1,2,27.75,Second,unknown,Southampton,n\\n327,0,male,30.0,0,0,27.75,First,C,Cherbourg,y\\n328,1,male,49.0,1,0,89.1042,First,C,Cherbourg,n\\n329,1,male,29.0,0,0,7.8958,Third,unknown,Cherbourg,y\\n330,0,male,65.0,0,0,26.55,First,E,Southampton,y\\n331,1,female,28.0,1,0,51.8625,First,D,Southampton,n\\n332,1,male,48.0,0,0,26.55,First,E,Southampton,y\\n333,0,male,34.0,0,0,8.05,Third,unknown,Southampton,y\\n334,0,male,47.0,0,0,38.5,First,E,Southampton,y\\n335,0,male,28.0,0,0,8.05,Third,unknown,Southampton,y\\n336,0,male,38.0,0,0,7.05,Third,unknown,Southampton,y\\n337,0,male,56.0,0,0,26.55,First,unknown,Southampton,y\\n338,0,male,28.0,0,0,7.725,Third,unknown,Queenstown,y\\n339,1,female,0.75,2,1,19.2583,Third,unknown,Cherbourg,n\\n340,0,male,28.0,0,0,7.25,Third,unknown,Southampton,y\\n341,1,female,33.0,1,2,27.75,Second,unknown,Southampton,n\\n342,1,female,23.0,0,0,13.7917,Second,D,Cherbourg,y\\n343,0,male,28.0,0,0,52.0,First,A,Southampton,y\\n344,0,male,34.0,1,0,21.0,Second,unknown,Southampton,n\\n345,0,male,29.0,1,0,7.0458,Third,unknown,Southampton,n\\n346,1,female,2.0,0,1,12.2875,Third,unknown,Southampton,n\\n347,0,male,9.0,5,2,46.9,Third,unknown,Southampton,n\\n348,0,male,28.0,0,0,0.0,Second,unknown,Southampton,y\\n349,1,female,63.0,0,0,9.5875,Third,unknown,Southampton,y\\n350,1,male,25.0,1,0,91.0792,First,B,Cherbourg,n\\n351,0,female,28.0,3,1,25.4667,Third,unknown,Southampton,n\\n352,1,female,35.0,1,0,90.0,First,C,Southampton,n\\n353,0,male,58.0,0,0,29.7,First,B,Cherbourg,y\\n354,1,male,9.0,1,1,15.9,Third,unknown,Southampton,n\\n355,0,male,28.0,1,0,19.9667,Third,unknown,Southampton,n\\n356,0,male,71.0,0,0,49.5042,First,unknown,Cherbourg,y\\n357,0,male,21.0,0,0,8.05,Third,unknown,Southampton,y\\n358,0,female,25.0,1,2,151.55,First,C,Southampton,n\\n359,0,male,17.0,0,0,8.6625,Third,unknown,Southampton,y\\n360,0,female,21.0,0,0,7.75,Third,unknown,Queenstown,y\\n361,0,female,37.0,0,0,9.5875,Third,unknown,Southampton,y\\n362,0,male,18.0,1,0,108.9,First,C,Cherbourg,n\\n363,1,female,33.0,0,2,26.0,Second,unknown,Southampton,n\\n364,1,male,28.0,0,0,26.55,First,unknown,Southampton,y\\n365,1,male,26.0,0,0,56.4958,Third,unknown,Southampton,y\\n366,1,female,54.0,1,0,59.4,First,unknown,Cherbourg,n\\n367,0,male,24.0,0,0,7.4958,Third,unknown,Southampton,y\\n368,0,male,47.0,0,0,34.0208,First,D,Southampton,y\\n369,1,female,34.0,0,0,10.5,Second,F,Southampton,y\\n370,1,female,36.0,1,0,26.0,Second,unknown,Southampton,n\\n371,0,male,32.0,0,0,7.8958,Third,unknown,Southampton,y\\n372,1,female,30.0,0,0,93.5,First,B,Southampton,y\\n373,0,male,22.0,0,0,7.8958,Third,unknown,Southampton,y\\n374,1,female,44.0,0,1,57.9792,First,B,Cherbourg,n\\n375,0,male,28.0,0,0,7.2292,Third,unknown,Cherbourg,y\\n376,0,male,40.5,0,0,7.75,Third,unknown,Queenstown,y\\n377,1,female,50.0,0,0,10.5,Second,unknown,Southampton,y\\n378,0,male,28.0,0,0,221.7792,First,C,Southampton,y\\n379,0,male,23.0,2,1,11.5,Second,unknown,Southampton,n\\n380,1,female,2.0,1,1,26.0,Second,unknown,Southampton,n\\n381,0,male,17.0,1,1,7.2292,Third,unknown,Cherbourg,n\\n382,1,female,28.0,0,2,22.3583,Third,unknown,Cherbourg,n\\n383,0,female,30.0,0,0,8.6625,Third,unknown,Southampton,y\\n384,1,female,7.0,0,2,26.25,Second,unknown,Southampton,n\\n385,0,male,45.0,0,0,26.55,First,B,Southampton,y\\n386,1,female,30.0,0,0,106.425,First,unknown,Cherbourg,y\\n387,1,female,22.0,0,2,49.5,First,B,Cherbourg,n\\n388,1,female,36.0,0,2,71.0,First,B,Southampton,n\\n389,0,female,9.0,4,2,31.275,Third,unknown,Southampton,n\\n390,0,female,11.0,4,2,31.275,Third,unknown,Southampton,n\\n391,0,male,50.0,1,0,106.425,First,C,Cherbourg,n\\n392,1,female,19.0,1,0,26.0,Second,unknown,Southampton,n\\n393,1,male,28.0,0,0,13.8625,Second,unknown,Cherbourg,y\\n394,0,male,33.0,1,1,20.525,Third,unknown,Southampton,n\\n395,1,male,17.0,0,2,110.8833,First,C,Cherbourg,n\\n396,0,male,27.0,0,0,26.0,Second,unknown,Southampton,y\\n397,0,male,28.0,0,0,7.8292,Third,unknown,Queenstown,y\\n398,1,female,22.0,0,0,7.775,Third,unknown,Southampton,y\\n399,1,female,48.0,1,0,39.6,First,A,Cherbourg,n\\n400,0,male,28.0,0,0,227.525,First,unknown,Cherbourg,y\\n401,1,female,39.0,1,1,79.65,First,E,Southampton,n\\n402,1,female,36.0,1,0,17.4,Third,unknown,Southampton,n\\n403,0,male,28.0,0,0,7.75,Third,unknown,Queenstown,y\\n404,0,male,40.0,0,0,7.8958,Third,unknown,Southampton,y\\n405,0,male,28.0,0,0,8.05,Third,unknown,Southampton,y\\n406,0,male,24.0,2,0,24.15,Third,unknown,Southampton,n\\n407,0,male,19.0,0,0,7.8958,Third,unknown,Southampton,y\\n408,0,female,29.0,0,4,21.075,Third,unknown,Southampton,n\\n409,1,male,32.0,0,0,7.8542,Third,unknown,Southampton,y\\n410,1,male,62.0,0,0,10.5,Second,unknown,Southampton,y\\n411,1,female,53.0,2,0,51.4792,First,C,Southampton,n\\n412,1,male,36.0,0,0,26.3875,First,E,Southampton,y\\n413,0,male,16.0,0,0,8.05,Third,unknown,Southampton,y\\n414,1,female,34.0,0,0,13.0,Second,unknown,Southampton,y\\n415,1,female,25.0,1,1,30.0,Second,unknown,Southampton,n\\n416,0,male,36.0,0,0,40.125,First,A,Cherbourg,y\\n417,0,male,47.0,0,0,15.0,Second,unknown,Southampton,y\\n418,1,male,60.0,1,1,79.2,First,B,Cherbourg,n\\n419,0,male,28.0,0,0,8.05,Third,unknown,Southampton,y\\n420,0,male,35.0,0,0,7.125,Third,unknown,Southampton,y\\n421,1,female,52.0,1,0,78.2667,First,D,Cherbourg,n\\n422,0,male,47.0,0,0,7.25,Third,unknown,Southampton,y\\n423,0,female,28.0,0,2,7.75,Third,unknown,Queenstown,n\\n424,0,male,37.0,1,0,26.0,Second,unknown,Southampton,n\\n425,0,male,36.0,1,1,24.15,Third,unknown,Southampton,n\\n426,1,female,28.0,0,0,33.0,Second,unknown,Southampton,y\\n427,0,male,49.0,0,0,0.0,Third,unknown,Southampton,y\\n428,0,male,28.0,0,0,7.225,Third,unknown,Cherbourg,y\\n429,1,male,49.0,1,0,56.9292,First,A,Cherbourg,n\\n430,1,male,35.0,0,0,26.55,First,unknown,Cherbourg,y\\n431,0,male,36.0,1,0,15.55,Third,unknown,Southampton,n\\n432,0,male,30.0,0,0,7.8958,Third,unknown,Southampton,y\\n433,1,male,27.0,0,0,30.5,First,unknown,Southampton,y\\n434,1,female,22.0,1,2,41.5792,Second,unknown,Cherbourg,n\\n435,1,female,40.0,0,0,153.4625,First,C,Southampton,y\\n436,0,female,39.0,1,5,31.275,Third,unknown,Southampton,n\\n437,0,male,28.0,0,0,7.05,Third,unknown,Southampton,y\\n438,1,female,28.0,1,0,15.5,Third,unknown,Queenstown,n\\n439,0,male,35.0,0,0,8.05,Third,unknown,Southampton,y\\n440,1,female,24.0,1,2,65.0,Second,unknown,Southampton,n\\n441,0,male,34.0,1,1,14.4,Third,unknown,Southampton,n\\n442,0,male,26.0,0,0,10.5,Second,unknown,Southampton,y\\n443,1,male,20.0,1,1,15.7417,Third,unknown,Cherbourg,n\\n444,0,male,61.0,0,0,32.3208,First,D,Southampton,y\\n445,0,male,57.0,0,0,12.35,Second,unknown,Queenstown,y\\n446,1,female,21.0,0,0,77.9583,First,D,Southampton,y\\n447,0,male,26.0,0,0,7.8958,Third,unknown,Southampton,y\\n448,0,male,28.0,0,0,7.7333,Third,unknown,Queenstown,y\\n449,1,male,80.0,0,0,30.0,First,A,Southampton,y\\n450,0,male,51.0,0,0,7.0542,Third,unknown,Southampton,y\\n451,1,male,32.0,0,0,30.5,First,B,Cherbourg,y\\n452,0,female,9.0,3,2,27.9,Third,unknown,Southampton,n\\n453,1,female,28.0,0,0,13.0,Second,unknown,Southampton,y\\n454,0,male,32.0,0,0,7.925,Third,unknown,Southampton,y\\n455,0,female,41.0,0,5,39.6875,Third,unknown,Southampton,n\\n456,0,male,28.0,1,0,16.1,Third,unknown,Southampton,n\\n457,0,male,20.0,0,0,7.8542,Third,unknown,Southampton,y\\n458,1,male,28.0,0,0,56.4958,Third,unknown,Southampton,y\\n459,1,female,0.75,2,1,19.2583,Third,unknown,Cherbourg,n\\n460,1,male,48.0,1,0,76.7292,First,D,Cherbourg,n\\n461,0,male,28.0,0,0,7.55,Third,unknown,Southampton,y\\n462,1,female,23.0,0,0,7.55,Third,unknown,Southampton,y\\n463,0,male,28.0,0,0,7.8958,Third,unknown,Southampton,y\\n464,1,female,18.0,0,1,23.0,Second,unknown,Southampton,n\\n465,0,male,21.0,0,0,8.4333,Third,unknown,Southampton,y\\n466,0,male,24.0,2,0,73.5,Second,unknown,Southampton,n\\n467,0,male,28.0,0,0,7.8958,Third,unknown,Southampton,y\\n468,0,female,32.0,1,1,15.5,Third,unknown,Queenstown,n\\n469,1,male,50.0,2,0,133.65,First,unknown,Southampton,n\\n470,0,male,47.0,0,0,25.5875,First,E,Southampton,y\\n471,0,male,36.0,0,0,7.4958,Third,unknown,Southampton,y\\n472,1,male,20.0,1,0,7.925,Third,unknown,Southampton,n\\n473,0,male,25.0,0,0,13.0,Second,unknown,Southampton,y\\n474,0,male,28.0,0,0,7.775,Third,unknown,Southampton,y\\n475,0,male,43.0,0,0,8.05,Third,unknown,Southampton,y\\n476,1,female,40.0,1,1,39.0,Second,unknown,Southampton,n\\n477,0,male,31.0,1,0,52.0,First,B,Southampton,n\\n478,1,male,31.0,0,0,13.0,Second,unknown,Southampton,y\\n479,0,male,28.0,0,0,0.0,Second,unknown,Southampton,y\\n480,0,male,18.0,0,0,7.775,Third,unknown,Southampton,y\\n481,1,female,18.0,0,0,9.8417,Third,unknown,Southampton,y\\n482,1,male,36.0,0,1,512.3292,First,B,Cherbourg,n\\n483,1,male,27.0,0,0,76.7292,First,D,Cherbourg,y\\n484,0,male,20.0,0,0,9.225,Third,unknown,Southampton,y\\n485,0,male,14.0,5,2,46.9,Third,unknown,Southampton,n\\n486,0,male,60.0,1,1,39.0,Second,unknown,Southampton,n\\n487,0,male,19.0,0,0,10.1708,Third,unknown,Southampton,y\\n488,0,male,18.0,0,0,7.7958,Third,unknown,Southampton,y\\n489,1,female,15.0,0,1,211.3375,First,B,Southampton,n\\n490,1,male,31.0,1,0,57.0,First,B,Southampton,n\\n491,1,female,4.0,0,1,13.4167,Third,unknown,Cherbourg,n\\n492,1,male,28.0,0,0,56.4958,Third,unknown,Southampton,y\\n493,0,male,60.0,0,0,26.55,First,unknown,Southampton,y\\n494,1,female,28.0,0,0,7.7333,Third,unknown,Queenstown,y\\n495,0,male,49.0,1,1,110.8833,First,C,Cherbourg,n\\n496,1,male,35.0,0,0,26.2875,First,E,Southampton,y\\n497,0,male,25.0,0,0,7.7417,Third,unknown,Queenstown,y\\n498,0,male,39.0,0,0,26.0,Second,unknown,Southampton,y\\n499,1,female,22.0,0,0,151.55,First,unknown,Southampton,y\\n500,1,male,28.0,1,1,15.2458,Third,unknown,Cherbourg,n\\n501,1,female,24.0,0,0,49.5042,First,C,Cherbourg,y\\n502,0,male,28.0,0,0,26.55,First,C,Southampton,y\\n503,1,male,48.0,1,0,52.0,First,C,Southampton,n\\n504,0,male,29.0,0,0,9.4833,Third,unknown,Southampton,y\\n505,0,male,19.0,0,0,7.65,Third,F,Southampton,y\\n506,1,female,38.0,0,0,227.525,First,C,Cherbourg,y\\n507,1,female,27.0,0,0,10.5,Second,E,Southampton,y\\n508,0,male,28.0,0,0,15.5,Third,unknown,Queenstown,y\\n509,0,male,33.0,0,0,7.775,Third,unknown,Southampton,y\\n510,1,female,6.0,0,1,33.0,Second,unknown,Southampton,n\\n511,0,male,50.0,0,0,13.0,Second,unknown,Southampton,y\\n512,1,male,27.0,1,0,53.1,First,E,Southampton,n\\n513,1,female,30.0,3,0,21.0,Second,unknown,Southampton,n\\n514,0,male,25.0,1,0,26.0,Second,unknown,Southampton,n\\n515,0,female,25.0,1,0,7.925,Third,unknown,Southampton,n\\n516,1,female,29.0,0,0,211.3375,First,B,Southampton,y\\n517,0,male,11.0,0,0,18.7875,Third,unknown,Cherbourg,y\\n518,0,male,28.0,0,0,0.0,Second,unknown,Southampton,y\\n519,0,male,23.0,0,0,13.0,Second,unknown,Southampton,y\\n520,0,male,23.0,0,0,13.0,Second,unknown,Southampton,y\\n521,1,male,35.0,0,0,512.3292,First,B,Cherbourg,y\\n522,0,male,28.0,0,0,7.8958,Third,unknown,Southampton,y\\n523,0,male,28.0,0,0,7.8958,Third,unknown,Southampton,y\\n524,0,male,36.0,1,0,78.85,First,C,Southampton,n\\n525,1,female,21.0,2,2,262.375,First,B,Cherbourg,n\\n526,0,male,24.0,1,0,16.1,Third,unknown,Southampton,n\\n527,0,male,70.0,1,1,71.0,First,B,Southampton,n\\n528,1,female,4.0,1,1,23.0,Second,unknown,Southampton,n\\n529,1,male,6.0,0,1,12.475,Third,E,Southampton,n\\n530,0,male,33.0,0,0,9.5,Third,unknown,Southampton,y\\n531,0,male,23.0,0,0,7.8958,Third,unknown,Southampton,y\\n532,1,female,48.0,1,2,65.0,Second,unknown,Southampton,n\\n533,0,male,28.0,0,0,7.7958,Third,unknown,Southampton,y\\n534,0,male,34.0,0,0,8.05,Third,unknown,Southampton,y\\n535,0,male,28.0,0,0,14.5,Third,unknown,Southampton,y\\n536,0,male,41.0,0,0,7.125,Third,unknown,Southampton,y\\n537,1,male,20.0,0,0,7.2292,Third,unknown,Cherbourg,y\\n538,1,female,51.0,1,0,77.9583,First,D,Southampton,n\\n539,0,male,28.0,0,0,39.6,First,unknown,Cherbourg,y\\n540,0,male,28.0,1,0,24.15,Third,unknown,Queenstown,n\\n541,0,male,32.0,0,0,8.3625,Third,unknown,Southampton,y\\n542,0,male,48.0,0,0,7.8542,Third,unknown,Southampton,y\\n543,0,female,57.0,0,0,10.5,Second,E,Southampton,y\\n544,0,male,18.0,0,0,7.75,Third,unknown,Southampton,y\\n545,0,male,28.0,0,0,7.75,Third,F,Queenstown,y\\n546,1,female,5.0,0,0,12.475,Third,unknown,Southampton,y\\n547,1,female,17.0,1,0,57.0,First,B,Southampton,n\\n548,0,male,29.0,0,0,30.0,First,D,Southampton,y\\n549,0,male,28.0,1,2,23.45,Third,unknown,Southampton,n\\n550,0,male,25.0,0,0,7.05,Third,unknown,Southampton,y\\n551,1,male,1.0,1,2,20.575,Third,unknown,Southampton,n\\n552,0,male,46.0,0,0,79.2,First,B,Cherbourg,y\\n553,0,male,28.0,0,0,7.75,Third,unknown,Queenstown,y\\n554,0,male,16.0,0,0,26.0,Second,unknown,Southampton,y\\n555,0,female,28.0,8,2,69.55,Third,unknown,Southampton,n\\n556,0,male,28.0,0,0,30.6958,First,unknown,Cherbourg,y\\n557,0,male,25.0,0,0,7.8958,Third,unknown,Southampton,y\\n558,0,male,39.0,0,0,13.0,Second,unknown,Southampton,y\\n559,1,female,49.0,0,0,25.9292,First,D,Southampton,y\\n560,1,female,31.0,0,0,8.6833,Third,unknown,Southampton,y\\n561,0,male,30.0,0,0,7.2292,Third,unknown,Cherbourg,y\\n562,0,female,30.0,1,1,24.15,Third,unknown,Southampton,n\\n563,0,male,34.0,0,0,13.0,Second,unknown,Southampton,y\\n564,1,female,31.0,1,1,26.25,Second,unknown,Southampton,n\\n565,1,male,11.0,1,2,120.0,First,B,Southampton,n\\n566,0,male,31.0,0,0,7.775,Third,unknown,Southampton,y\\n567,0,male,39.0,0,0,0.0,First,A,Southampton,y\\n568,0,male,39.0,0,0,13.0,Second,unknown,Southampton,y\\n569,1,female,33.0,1,0,53.1,First,E,Southampton,n\\n570,0,male,26.0,0,0,7.8875,Third,unknown,Southampton,y\\n571,0,male,39.0,0,0,24.15,Third,unknown,Southampton,y\\n572,0,male,35.0,0,0,10.5,Second,unknown,Southampton,y\\n573,0,male,30.5,0,0,8.05,Third,unknown,Southampton,y\\n574,0,male,28.0,0,0,0.0,First,B,Southampton,y\\n575,0,female,23.0,0,0,7.925,Third,unknown,Southampton,y\\n576,0,male,31.0,1,1,37.0042,Second,unknown,Cherbourg,n\\n577,0,male,10.0,3,2,27.9,Third,unknown,Southampton,n\\n578,1,female,52.0,1,1,93.5,First,B,Southampton,n\\n579,1,male,27.0,0,0,8.6625,Third,unknown,Southampton,y\\n580,0,male,2.0,4,1,39.6875,Third,unknown,Southampton,n\\n581,0,male,28.0,0,0,6.95,Third,unknown,Queenstown,y\\n582,0,male,28.0,0,0,56.4958,Third,unknown,Southampton,y\\n583,1,male,28.0,0,0,7.75,Third,unknown,Queenstown,y\\n584,1,female,15.0,1,0,14.4542,Third,unknown,Cherbourg,n\\n585,0,male,28.0,0,0,7.2292,Third,unknown,Cherbourg,y\\n586,0,male,23.0,0,0,7.8542,Third,unknown,Southampton,y\\n587,0,male,18.0,0,0,8.3,Third,unknown,Southampton,y\\n588,1,female,39.0,1,1,83.1583,First,E,Cherbourg,n\\n589,0,male,21.0,0,0,8.6625,Third,unknown,Southampton,y\\n590,0,male,28.0,0,0,8.05,Third,unknown,Southampton,y\\n591,1,male,28.0,0,0,29.7,First,C,Cherbourg,y\\n592,0,male,16.0,0,0,10.5,Second,unknown,Southampton,y\\n593,1,female,30.0,0,0,31.0,First,unknown,Cherbourg,y\\n594,0,male,34.5,0,0,6.4375,Third,unknown,Cherbourg,y\\n595,0,male,42.0,0,0,7.55,Third,unknown,Southampton,y\\n596,0,male,28.0,8,2,69.55,Third,unknown,Southampton,n\\n597,0,male,35.0,0,0,7.8958,Third,unknown,Cherbourg,y\\n598,0,male,28.0,0,1,33.0,Second,unknown,Southampton,n\\n599,1,female,28.0,1,0,89.1042,First,C,Cherbourg,n\\n600,0,male,4.0,4,2,31.275,Third,unknown,Southampton,n\\n601,1,female,16.0,0,1,39.4,First,D,Southampton,n\\n602,1,female,18.0,0,1,9.35,Third,unknown,Southampton,n\\n603,1,female,45.0,1,1,164.8667,First,unknown,Southampton,n\\n604,1,male,51.0,0,0,26.55,First,E,Southampton,y\\n605,1,female,24.0,0,3,19.2583,Third,unknown,Cherbourg,n\\n606,0,male,41.0,2,0,14.1083,Third,unknown,Southampton,n\\n607,0,male,24.0,0,0,13.0,Second,unknown,Southampton,y\\n608,1,female,42.0,0,0,13.0,Second,unknown,Southampton,y\\n609,1,female,27.0,1,0,13.8583,Second,unknown,Cherbourg,n\\n610,0,male,31.0,0,0,50.4958,First,A,Southampton,y\\n611,1,male,4.0,1,1,11.1333,Third,unknown,Southampton,n\\n612,0,male,26.0,0,0,7.8958,Third,unknown,Southampton,y\\n613,1,female,47.0,1,1,52.5542,First,D,Southampton,n\\n614,0,male,33.0,0,0,5.0,First,B,Southampton,y\\n615,0,male,47.0,0,0,9.0,Third,unknown,Southampton,y\\n616,1,female,28.0,1,0,24.0,Second,unknown,Cherbourg,n\\n617,1,female,15.0,0,0,7.225,Third,unknown,Cherbourg,y\\n618,0,male,20.0,0,0,9.8458,Third,unknown,Southampton,y\\n619,0,male,19.0,0,0,7.8958,Third,unknown,Southampton,y\\n620,0,male,28.0,0,0,7.8958,Third,unknown,Southampton,y\\n621,0,female,22.0,0,0,10.5167,Third,unknown,Southampton,y\\n622,0,male,28.0,0,0,10.5,Second,unknown,Southampton,y\\n623,0,male,25.0,0,0,7.05,Third,unknown,Southampton,y\\n624,1,female,19.0,0,0,30.0,First,B,Southampton,y\\n625,0,female,28.0,1,2,23.45,Third,unknown,Southampton,n\\n626,0,male,32.0,0,0,7.75,Third,unknown,Queenstown,y\\n'"
            ]
          },
          "metadata": {
            "tags": []
          },
          "execution_count": 15
        }
      ]
    },
    {
      "cell_type": "code",
      "metadata": {
        "id": "S3OcxSiW7mUN",
        "colab_type": "code",
        "outputId": "6339336d-b556-49e5-d69f-bd8984f8dfc2",
        "colab": {
          "base_uri": "https://localhost:8080/"
        }
      },
      "source": [
        "y_train = dftrain.pop(\"survived\")\n",
        "y_eval = dfeval.pop(\"survived\")\n",
        "print(y_train)"
      ],
      "execution_count": 0,
      "outputs": [
        {
          "output_type": "stream",
          "text": [
            "0      0\n",
            "1      1\n",
            "2      1\n",
            "3      1\n",
            "4      0\n",
            "      ..\n",
            "622    0\n",
            "623    0\n",
            "624    1\n",
            "625    0\n",
            "626    0\n",
            "Name: survived, Length: 627, dtype: int64\n"
          ],
          "name": "stdout"
        }
      ]
    },
    {
      "cell_type": "code",
      "metadata": {
        "id": "gbXXQwCb5Lcz",
        "colab_type": "code",
        "outputId": "bb4efce6-08b5-4d0c-9948-9f418487d7a2",
        "colab": {
          "base_uri": "https://localhost:8080/"
        }
      },
      "source": [
        "dftrain.head(20)"
      ],
      "execution_count": 0,
      "outputs": [
        {
          "output_type": "execute_result",
          "data": {
            "text/html": [
              "<div>\n",
              "<style scoped>\n",
              "    .dataframe tbody tr th:only-of-type {\n",
              "        vertical-align: middle;\n",
              "    }\n",
              "\n",
              "    .dataframe tbody tr th {\n",
              "        vertical-align: top;\n",
              "    }\n",
              "\n",
              "    .dataframe thead th {\n",
              "        text-align: right;\n",
              "    }\n",
              "</style>\n",
              "<table border=\"1\" class=\"dataframe\">\n",
              "  <thead>\n",
              "    <tr style=\"text-align: right;\">\n",
              "      <th></th>\n",
              "      <th>sex</th>\n",
              "      <th>age</th>\n",
              "      <th>n_siblings_spouses</th>\n",
              "      <th>parch</th>\n",
              "      <th>fare</th>\n",
              "      <th>class</th>\n",
              "      <th>deck</th>\n",
              "      <th>embark_town</th>\n",
              "      <th>alone</th>\n",
              "    </tr>\n",
              "  </thead>\n",
              "  <tbody>\n",
              "    <tr>\n",
              "      <th>0</th>\n",
              "      <td>male</td>\n",
              "      <td>22.0</td>\n",
              "      <td>1</td>\n",
              "      <td>0</td>\n",
              "      <td>7.2500</td>\n",
              "      <td>Third</td>\n",
              "      <td>unknown</td>\n",
              "      <td>Southampton</td>\n",
              "      <td>n</td>\n",
              "    </tr>\n",
              "    <tr>\n",
              "      <th>1</th>\n",
              "      <td>female</td>\n",
              "      <td>38.0</td>\n",
              "      <td>1</td>\n",
              "      <td>0</td>\n",
              "      <td>71.2833</td>\n",
              "      <td>First</td>\n",
              "      <td>C</td>\n",
              "      <td>Cherbourg</td>\n",
              "      <td>n</td>\n",
              "    </tr>\n",
              "    <tr>\n",
              "      <th>2</th>\n",
              "      <td>female</td>\n",
              "      <td>26.0</td>\n",
              "      <td>0</td>\n",
              "      <td>0</td>\n",
              "      <td>7.9250</td>\n",
              "      <td>Third</td>\n",
              "      <td>unknown</td>\n",
              "      <td>Southampton</td>\n",
              "      <td>y</td>\n",
              "    </tr>\n",
              "    <tr>\n",
              "      <th>3</th>\n",
              "      <td>female</td>\n",
              "      <td>35.0</td>\n",
              "      <td>1</td>\n",
              "      <td>0</td>\n",
              "      <td>53.1000</td>\n",
              "      <td>First</td>\n",
              "      <td>C</td>\n",
              "      <td>Southampton</td>\n",
              "      <td>n</td>\n",
              "    </tr>\n",
              "    <tr>\n",
              "      <th>4</th>\n",
              "      <td>male</td>\n",
              "      <td>28.0</td>\n",
              "      <td>0</td>\n",
              "      <td>0</td>\n",
              "      <td>8.4583</td>\n",
              "      <td>Third</td>\n",
              "      <td>unknown</td>\n",
              "      <td>Queenstown</td>\n",
              "      <td>y</td>\n",
              "    </tr>\n",
              "    <tr>\n",
              "      <th>5</th>\n",
              "      <td>male</td>\n",
              "      <td>2.0</td>\n",
              "      <td>3</td>\n",
              "      <td>1</td>\n",
              "      <td>21.0750</td>\n",
              "      <td>Third</td>\n",
              "      <td>unknown</td>\n",
              "      <td>Southampton</td>\n",
              "      <td>n</td>\n",
              "    </tr>\n",
              "    <tr>\n",
              "      <th>6</th>\n",
              "      <td>female</td>\n",
              "      <td>27.0</td>\n",
              "      <td>0</td>\n",
              "      <td>2</td>\n",
              "      <td>11.1333</td>\n",
              "      <td>Third</td>\n",
              "      <td>unknown</td>\n",
              "      <td>Southampton</td>\n",
              "      <td>n</td>\n",
              "    </tr>\n",
              "    <tr>\n",
              "      <th>7</th>\n",
              "      <td>female</td>\n",
              "      <td>14.0</td>\n",
              "      <td>1</td>\n",
              "      <td>0</td>\n",
              "      <td>30.0708</td>\n",
              "      <td>Second</td>\n",
              "      <td>unknown</td>\n",
              "      <td>Cherbourg</td>\n",
              "      <td>n</td>\n",
              "    </tr>\n",
              "    <tr>\n",
              "      <th>8</th>\n",
              "      <td>female</td>\n",
              "      <td>4.0</td>\n",
              "      <td>1</td>\n",
              "      <td>1</td>\n",
              "      <td>16.7000</td>\n",
              "      <td>Third</td>\n",
              "      <td>G</td>\n",
              "      <td>Southampton</td>\n",
              "      <td>n</td>\n",
              "    </tr>\n",
              "    <tr>\n",
              "      <th>9</th>\n",
              "      <td>male</td>\n",
              "      <td>20.0</td>\n",
              "      <td>0</td>\n",
              "      <td>0</td>\n",
              "      <td>8.0500</td>\n",
              "      <td>Third</td>\n",
              "      <td>unknown</td>\n",
              "      <td>Southampton</td>\n",
              "      <td>y</td>\n",
              "    </tr>\n",
              "    <tr>\n",
              "      <th>10</th>\n",
              "      <td>male</td>\n",
              "      <td>39.0</td>\n",
              "      <td>1</td>\n",
              "      <td>5</td>\n",
              "      <td>31.2750</td>\n",
              "      <td>Third</td>\n",
              "      <td>unknown</td>\n",
              "      <td>Southampton</td>\n",
              "      <td>n</td>\n",
              "    </tr>\n",
              "    <tr>\n",
              "      <th>11</th>\n",
              "      <td>female</td>\n",
              "      <td>14.0</td>\n",
              "      <td>0</td>\n",
              "      <td>0</td>\n",
              "      <td>7.8542</td>\n",
              "      <td>Third</td>\n",
              "      <td>unknown</td>\n",
              "      <td>Southampton</td>\n",
              "      <td>y</td>\n",
              "    </tr>\n",
              "    <tr>\n",
              "      <th>12</th>\n",
              "      <td>male</td>\n",
              "      <td>2.0</td>\n",
              "      <td>4</td>\n",
              "      <td>1</td>\n",
              "      <td>29.1250</td>\n",
              "      <td>Third</td>\n",
              "      <td>unknown</td>\n",
              "      <td>Queenstown</td>\n",
              "      <td>n</td>\n",
              "    </tr>\n",
              "    <tr>\n",
              "      <th>13</th>\n",
              "      <td>male</td>\n",
              "      <td>28.0</td>\n",
              "      <td>0</td>\n",
              "      <td>0</td>\n",
              "      <td>13.0000</td>\n",
              "      <td>Second</td>\n",
              "      <td>unknown</td>\n",
              "      <td>Southampton</td>\n",
              "      <td>y</td>\n",
              "    </tr>\n",
              "    <tr>\n",
              "      <th>14</th>\n",
              "      <td>female</td>\n",
              "      <td>31.0</td>\n",
              "      <td>1</td>\n",
              "      <td>0</td>\n",
              "      <td>18.0000</td>\n",
              "      <td>Third</td>\n",
              "      <td>unknown</td>\n",
              "      <td>Southampton</td>\n",
              "      <td>n</td>\n",
              "    </tr>\n",
              "    <tr>\n",
              "      <th>15</th>\n",
              "      <td>female</td>\n",
              "      <td>28.0</td>\n",
              "      <td>0</td>\n",
              "      <td>0</td>\n",
              "      <td>7.2250</td>\n",
              "      <td>Third</td>\n",
              "      <td>unknown</td>\n",
              "      <td>Cherbourg</td>\n",
              "      <td>y</td>\n",
              "    </tr>\n",
              "    <tr>\n",
              "      <th>16</th>\n",
              "      <td>male</td>\n",
              "      <td>35.0</td>\n",
              "      <td>0</td>\n",
              "      <td>0</td>\n",
              "      <td>26.0000</td>\n",
              "      <td>Second</td>\n",
              "      <td>unknown</td>\n",
              "      <td>Southampton</td>\n",
              "      <td>y</td>\n",
              "    </tr>\n",
              "    <tr>\n",
              "      <th>17</th>\n",
              "      <td>male</td>\n",
              "      <td>28.0</td>\n",
              "      <td>0</td>\n",
              "      <td>0</td>\n",
              "      <td>35.5000</td>\n",
              "      <td>First</td>\n",
              "      <td>A</td>\n",
              "      <td>Southampton</td>\n",
              "      <td>y</td>\n",
              "    </tr>\n",
              "    <tr>\n",
              "      <th>18</th>\n",
              "      <td>female</td>\n",
              "      <td>38.0</td>\n",
              "      <td>1</td>\n",
              "      <td>5</td>\n",
              "      <td>31.3875</td>\n",
              "      <td>Third</td>\n",
              "      <td>unknown</td>\n",
              "      <td>Southampton</td>\n",
              "      <td>n</td>\n",
              "    </tr>\n",
              "    <tr>\n",
              "      <th>19</th>\n",
              "      <td>male</td>\n",
              "      <td>28.0</td>\n",
              "      <td>0</td>\n",
              "      <td>0</td>\n",
              "      <td>7.2250</td>\n",
              "      <td>Third</td>\n",
              "      <td>unknown</td>\n",
              "      <td>Cherbourg</td>\n",
              "      <td>y</td>\n",
              "    </tr>\n",
              "  </tbody>\n",
              "</table>\n",
              "</div>"
            ],
            "text/plain": [
              "       sex   age  n_siblings_spouses  parch  ...   class     deck  embark_town alone\n",
              "0     male  22.0                   1      0  ...   Third  unknown  Southampton     n\n",
              "1   female  38.0                   1      0  ...   First        C    Cherbourg     n\n",
              "2   female  26.0                   0      0  ...   Third  unknown  Southampton     y\n",
              "3   female  35.0                   1      0  ...   First        C  Southampton     n\n",
              "4     male  28.0                   0      0  ...   Third  unknown   Queenstown     y\n",
              "5     male   2.0                   3      1  ...   Third  unknown  Southampton     n\n",
              "6   female  27.0                   0      2  ...   Third  unknown  Southampton     n\n",
              "7   female  14.0                   1      0  ...  Second  unknown    Cherbourg     n\n",
              "8   female   4.0                   1      1  ...   Third        G  Southampton     n\n",
              "9     male  20.0                   0      0  ...   Third  unknown  Southampton     y\n",
              "10    male  39.0                   1      5  ...   Third  unknown  Southampton     n\n",
              "11  female  14.0                   0      0  ...   Third  unknown  Southampton     y\n",
              "12    male   2.0                   4      1  ...   Third  unknown   Queenstown     n\n",
              "13    male  28.0                   0      0  ...  Second  unknown  Southampton     y\n",
              "14  female  31.0                   1      0  ...   Third  unknown  Southampton     n\n",
              "15  female  28.0                   0      0  ...   Third  unknown    Cherbourg     y\n",
              "16    male  35.0                   0      0  ...  Second  unknown  Southampton     y\n",
              "17    male  28.0                   0      0  ...   First        A  Southampton     y\n",
              "18  female  38.0                   1      5  ...   Third  unknown  Southampton     n\n",
              "19    male  28.0                   0      0  ...   Third  unknown    Cherbourg     y\n",
              "\n",
              "[20 rows x 9 columns]"
            ]
          },
          "metadata": {
            "tags": []
          },
          "execution_count": 17
        }
      ]
    },
    {
      "cell_type": "markdown",
      "metadata": {
        "id": "Ct0OQ4WE5eOC",
        "colab_type": "text"
      },
      "source": [
        " And if we want a more statistical analysis of our data we can use the .describe() method."
      ]
    },
    {
      "cell_type": "code",
      "metadata": {
        "id": "JkU7SCyB5hLj",
        "colab_type": "code",
        "outputId": "f3e24995-6b87-4815-bf3b-050971a47d6b",
        "colab": {
          "base_uri": "https://localhost:8080/"
        }
      },
      "source": [
        "dftrain.describe()"
      ],
      "execution_count": 0,
      "outputs": [
        {
          "output_type": "execute_result",
          "data": {
            "text/html": [
              "<div>\n",
              "<style scoped>\n",
              "    .dataframe tbody tr th:only-of-type {\n",
              "        vertical-align: middle;\n",
              "    }\n",
              "\n",
              "    .dataframe tbody tr th {\n",
              "        vertical-align: top;\n",
              "    }\n",
              "\n",
              "    .dataframe thead th {\n",
              "        text-align: right;\n",
              "    }\n",
              "</style>\n",
              "<table border=\"1\" class=\"dataframe\">\n",
              "  <thead>\n",
              "    <tr style=\"text-align: right;\">\n",
              "      <th></th>\n",
              "      <th>age</th>\n",
              "      <th>n_siblings_spouses</th>\n",
              "      <th>parch</th>\n",
              "      <th>fare</th>\n",
              "    </tr>\n",
              "  </thead>\n",
              "  <tbody>\n",
              "    <tr>\n",
              "      <th>count</th>\n",
              "      <td>627.000000</td>\n",
              "      <td>627.000000</td>\n",
              "      <td>627.000000</td>\n",
              "      <td>627.000000</td>\n",
              "    </tr>\n",
              "    <tr>\n",
              "      <th>mean</th>\n",
              "      <td>29.631308</td>\n",
              "      <td>0.545455</td>\n",
              "      <td>0.379585</td>\n",
              "      <td>34.385399</td>\n",
              "    </tr>\n",
              "    <tr>\n",
              "      <th>std</th>\n",
              "      <td>12.511818</td>\n",
              "      <td>1.151090</td>\n",
              "      <td>0.792999</td>\n",
              "      <td>54.597730</td>\n",
              "    </tr>\n",
              "    <tr>\n",
              "      <th>min</th>\n",
              "      <td>0.750000</td>\n",
              "      <td>0.000000</td>\n",
              "      <td>0.000000</td>\n",
              "      <td>0.000000</td>\n",
              "    </tr>\n",
              "    <tr>\n",
              "      <th>25%</th>\n",
              "      <td>23.000000</td>\n",
              "      <td>0.000000</td>\n",
              "      <td>0.000000</td>\n",
              "      <td>7.895800</td>\n",
              "    </tr>\n",
              "    <tr>\n",
              "      <th>50%</th>\n",
              "      <td>28.000000</td>\n",
              "      <td>0.000000</td>\n",
              "      <td>0.000000</td>\n",
              "      <td>15.045800</td>\n",
              "    </tr>\n",
              "    <tr>\n",
              "      <th>75%</th>\n",
              "      <td>35.000000</td>\n",
              "      <td>1.000000</td>\n",
              "      <td>0.000000</td>\n",
              "      <td>31.387500</td>\n",
              "    </tr>\n",
              "    <tr>\n",
              "      <th>max</th>\n",
              "      <td>80.000000</td>\n",
              "      <td>8.000000</td>\n",
              "      <td>5.000000</td>\n",
              "      <td>512.329200</td>\n",
              "    </tr>\n",
              "  </tbody>\n",
              "</table>\n",
              "</div>"
            ],
            "text/plain": [
              "              age  n_siblings_spouses       parch        fare\n",
              "count  627.000000          627.000000  627.000000  627.000000\n",
              "mean    29.631308            0.545455    0.379585   34.385399\n",
              "std     12.511818            1.151090    0.792999   54.597730\n",
              "min      0.750000            0.000000    0.000000    0.000000\n",
              "25%     23.000000            0.000000    0.000000    7.895800\n",
              "50%     28.000000            0.000000    0.000000   15.045800\n",
              "75%     35.000000            1.000000    0.000000   31.387500\n",
              "max     80.000000            8.000000    5.000000  512.329200"
            ]
          },
          "metadata": {
            "tags": []
          },
          "execution_count": 18
        }
      ]
    },
    {
      "cell_type": "code",
      "metadata": {
        "id": "G9B0WKsa5kTJ",
        "colab_type": "code",
        "outputId": "b29336b8-dc84-4ebc-b0d0-89272e35929b",
        "colab": {
          "base_uri": "https://localhost:8080/"
        }
      },
      "source": [
        "dftrain.shape #627 entries and 9 features"
      ],
      "execution_count": 0,
      "outputs": [
        {
          "output_type": "execute_result",
          "data": {
            "text/plain": [
              "(627, 9)"
            ]
          },
          "metadata": {
            "tags": []
          },
          "execution_count": 19
        }
      ]
    },
    {
      "cell_type": "code",
      "metadata": {
        "id": "kYGkRCl964NF",
        "colab_type": "code",
        "outputId": "3f8cbf8b-0793-4328-8372-24f9247561a6",
        "colab": {
          "base_uri": "https://localhost:8080/"
        }
      },
      "source": [
        "y_train.head()"
      ],
      "execution_count": 0,
      "outputs": [
        {
          "output_type": "execute_result",
          "data": {
            "text/plain": [
              "0    0\n",
              "1    1\n",
              "2    1\n",
              "3    1\n",
              "4    0\n",
              "Name: survived, dtype: int64"
            ]
          },
          "metadata": {
            "tags": []
          },
          "execution_count": 20
        }
      ]
    },
    {
      "cell_type": "code",
      "metadata": {
        "id": "2fMCw5Vx8CxR",
        "colab_type": "code",
        "outputId": "82986975-69c4-44ed-b39d-27ead85a3d4a",
        "colab": {
          "base_uri": "https://localhost:8080/"
        }
      },
      "source": [
        "dftrain.age.hist(bins = 20)\n",
        "plt.show()\n",
        "# most passengers are around 20's or 30's "
      ],
      "execution_count": 0,
      "outputs": [
        {
          "output_type": "display_data",
          "data": {
            "image/png": "[encoded data removed]",
            "text/plain": [
              "<Figure size 432x288 with 1 Axes>"
            ]
          },
          "metadata": {
            "tags": []
          }
        }
      ]
    },
    {
      "cell_type": "code",
      "metadata": {
        "id": "-hScmMaz8eyg",
        "colab_type": "code",
        "outputId": "9b91ba9b-5995-47cf-a195-a5ae88203d01",
        "colab": {
          "base_uri": "https://localhost:8080/"
        }
      },
      "source": [
        "dftrain.sex.value_counts().plot(kind = 'barh')\n",
        "plt.show()\n",
        "# there are more male passengers than female "
      ],
      "execution_count": 0,
      "outputs": [
        {
          "output_type": "display_data",
          "data": {
            "image/png": "[encoded data removed]",
            "text/plain": [
              "<Figure size 432x288 with 1 Axes>"
            ]
          },
          "metadata": {
            "tags": []
          }
        }
      ]
    },
    {
      "cell_type": "code",
      "metadata": {
        "id": "tEP5mrNcRKNl",
        "colab_type": "code",
        "outputId": "0711c434-cd2b-418a-ccb7-0a9c73e83d3b",
        "colab": {
          "base_uri": "https://localhost:8080/"
        }
      },
      "source": [
        "dftrain[\"class\"].value_counts().plot(kind = 'barh')\n",
        "plt.show()\n",
        "# Most passengers are in the third class"
      ],
      "execution_count": 0,
      "outputs": [
        {
          "output_type": "display_data",
          "data": {
            "image/png": "[encoded data removed]",
            "text/plain": [
              "<Figure size 432x288 with 1 Axes>"
            ]
          },
          "metadata": {
            "tags": []
          }
        }
      ]
    },
    {
      "cell_type": "code",
      "metadata": {
        "id": "MDL9nAAkSE2T",
        "colab_type": "code",
        "outputId": "9162e4ca-76d7-457e-8f9a-580dac77d41c",
        "colab": {
          "base_uri": "https://localhost:8080/"
        }
      },
      "source": [
        "pd.concat([dftrain, y_train], axis = 1).groupby('sex').survived.mean().plot(kind = 'barh')\n",
        "plt.show()\n",
        "# female have more chanve to survive than male "
      ],
      "execution_count": 0,
      "outputs": [
        {
          "output_type": "display_data",
          "data": {
            "image/png": "[encoded data removed]",
            "text/plain": [
              "<Figure size 432x288 with 1 Axes>"
            ]
          },
          "metadata": {
            "tags": []
          }
        }
      ]
    },
    {
      "cell_type": "markdown",
      "metadata": {
        "id": "CaXcoEXxWYZc",
        "colab_type": "text"
      },
      "source": [
        "# Feature Columns\n",
        "Before we continue and create/train a model we must convet our categorical data into numeric data. We can do this by encoding each category with an integer (ex. male = 1, female = 2)."
      ]
    },
    {
      "cell_type": "code",
      "metadata": {
        "id": "NvLec7aaWcYN",
        "colab_type": "code",
        "outputId": "6468d729-bd23-4342-88df-3fe2dede4e08",
        "colab": {
          "base_uri": "https://localhost:8080/"
        }
      },
      "source": [
        "categrical_columns = ['sex', 'n_siblings_spouses', 'parch', 'class', \n",
        "                      'deck', 'embark_town', 'alone']\n",
        "numeric_columns = ['age', 'fare']\n",
        "\n",
        "feature_columns = []\n",
        "for feature_name in categrical_columns:\n",
        "  vocabulary = dftrain[feature_name].unique()\n",
        "  # get a list of all unique values from given feature column\n",
        "  feature_columns.append(tf.feature_column.categorical_column_with_vocabulary_list(feature_name, vocabulary))\n",
        "\n",
        "for feature_name in numeric_columns:\n",
        "  feature_columns.append(tf.feature_column.numeric_column(feature_name, dtype = tf.float32))\n",
        "\n",
        "print(feature_columns)"
      ],
      "execution_count": 0,
      "outputs": [
        {
          "output_type": "stream",
          "text": [
            "[VocabularyListCategoricalColumn(key='sex', vocabulary_list=('male', 'female'), dtype=tf.string, default_value=-1, num_oov_buckets=0), VocabularyListCategoricalColumn(key='n_siblings_spouses', vocabulary_list=(1, 0, 3, 4, 2, 5, 8), dtype=tf.int64, default_value=-1, num_oov_buckets=0), VocabularyListCategoricalColumn(key='parch', vocabulary_list=(0, 1, 2, 5, 3, 4), dtype=tf.int64, default_value=-1, num_oov_buckets=0), VocabularyListCategoricalColumn(key='class', vocabulary_list=('Third', 'First', 'Second'), dtype=tf.string, default_value=-1, num_oov_buckets=0), VocabularyListCategoricalColumn(key='deck', vocabulary_list=('unknown', 'C', 'G', 'A', 'B', 'D', 'F', 'E'), dtype=tf.string, default_value=-1, num_oov_buckets=0), VocabularyListCategoricalColumn(key='embark_town', vocabulary_list=('Southampton', 'Cherbourg', 'Queenstown', 'unknown'), dtype=tf.string, default_value=-1, num_oov_buckets=0), VocabularyListCategoricalColumn(key='alone', vocabulary_list=('n', 'y'), dtype=tf.string, default_value=-1, num_oov_buckets=0), NumericColumn(key='age', shape=(1,), default_value=None, dtype=tf.float32, normalizer_fn=None), NumericColumn(key='fare', shape=(1,), default_value=None, dtype=tf.float32, normalizer_fn=None)]\n"
          ],
          "name": "stdout"
        }
      ]
    },
    {
      "cell_type": "markdown",
      "metadata": {
        "id": "HESdEFInpPEW",
        "colab_type": "text"
      },
      "source": [
        "# The training process\n",
        "For this specific model data is going to be streamed into it in small batches of 32. This means we will not feed the entire dataset to our model at once, but simply small batches of entries. We will feed these batches to our model multiple times according to the number of **epochs**.\n",
        "\n",
        "An epoch is simply one stream of our entire dataset. The number of epochs we define is the amount of times our model will see the entire dataset. We use multiple epochs in hope that after seeing the same data multiple times the model will better determine how to estimate it.\n",
        "\n",
        "Ex. if we have 10 ephocs, our model will see the same dataset 10 times.\n",
        "\n",
        "Since we need to feed our data in batches and multiple times, we need to create something called an **input function**. The input function simply defines how our dataset will be converted into batches at each epoch.\n",
        "\n"
      ]
    },
    {
      "cell_type": "markdown",
      "metadata": {
        "id": "-k5XfZiewVFP",
        "colab_type": "text"
      },
      "source": [
        "# Input Function\n",
        "Below you'll see a seemingly complicated input function, this is straight from the TensorFlow documentation (https://www.tensorflow.org/tutorials/estimator/linear)."
      ]
    },
    {
      "cell_type": "code",
      "metadata": {
        "id": "t59kJDFzuTE8",
        "colab_type": "code",
        "colab": {}
      },
      "source": [
        "def make_input_fn(data_df, label_df, num_epochs=10, shuffle=True, batch_size=32):\n",
        "  def input_function():  # inner function, this will be returned\n",
        "    ds = tf.data.Dataset.from_tensor_slices((dict(data_df), label_df))  # create tf.data.Dataset object with data and its label\n",
        "    if shuffle:\n",
        "      ds = ds.shuffle(1000)  # randomize order of data\n",
        "    ds = ds.batch(batch_size).repeat(num_epochs)  # split dataset into batches of 32 and repeat process for number of epochs\n",
        "    return ds  # return a batch of the dataset\n",
        "  return input_function  # return a function object for use\n",
        "\n",
        "train_input_fn = make_input_fn(dftrain, y_train)  # here we will call the input_function that was returned to us to get a dataset object we can feed to the model\n",
        "eval_input_fn = make_input_fn(dfeval, y_eval, num_epochs=1, shuffle=False)"
      ],
      "execution_count": 0,
      "outputs": []
    },
    {
      "cell_type": "markdown",
      "metadata": {
        "id": "g43iDCn34oG3",
        "colab_type": "text"
      },
      "source": [
        "# Creating the model"
      ]
    },
    {
      "cell_type": "code",
      "metadata": {
        "id": "vVT8Aiyu4rsM",
        "colab_type": "code",
        "outputId": "2854b7b4-7dd7-481d-94d3-de94758e9365",
        "colab": {
          "base_uri": "https://localhost:8080/"
        }
      },
      "source": [
        "linear_est = tf.estimator.LinearClassifier(feature_columns=feature_columns)"
      ],
      "execution_count": 0,
      "outputs": [
        {
          "output_type": "stream",
          "text": [
            "INFO:tensorflow:Using default config.\n",
            "WARNING:tensorflow:Using temporary folder as model directory: /tmp/tmp7apry67q\n",
            "INFO:tensorflow:Using config: {'_model_dir': '/tmp/tmp7apry67q', '_tf_random_seed': None, '_save_summary_steps': 100, '_save_checkpoints_steps': None, '_save_checkpoints_secs': 600, '_session_config': allow_soft_placement: true\n",
            "graph_options {\n",
            "  rewrite_options {\n",
            "    meta_optimizer_iterations: ONE\n",
            "  }\n",
            "}\n",
            ", '_keep_checkpoint_max': 5, '_keep_checkpoint_every_n_hours': 10000, '_log_step_count_steps': 100, '_train_distribute': None, '_device_fn': None, '_protocol': None, '_eval_distribute': None, '_experimental_distribute': None, '_experimental_max_worker_delay_secs': None, '_session_creation_timeout_secs': 7200, '_service': None, '_cluster_spec': ClusterSpec({}), '_task_type': 'worker', '_task_id': 0, '_global_id_in_cluster': 0, '_master': '', '_evaluation_master': '', '_is_chief': True, '_num_ps_replicas': 0, '_num_worker_replicas': 1}\n"
          ],
          "name": "stdout"
        }
      ]
    },
    {
      "cell_type": "markdown",
      "metadata": {
        "id": "yJbp_R75Bxoq",
        "colab_type": "text"
      },
      "source": [
        "# Training the model"
      ]
    },
    {
      "cell_type": "code",
      "metadata": {
        "id": "yVHsbE5YB0te",
        "colab_type": "code",
        "outputId": "c32c624a-62ef-480d-8b12-0b6a1d665419",
        "colab": {
          "base_uri": "https://localhost:8080/"
        }
      },
      "source": [
        "linear_est.train(train_input_fn)\n",
        "result = linear_est.evaluate(eval_input_fn)\n",
        "\n",
        "clear_output()\n",
        "print(result['accuracy'])"
      ],
      "execution_count": 0,
      "outputs": [
        {
          "output_type": "stream",
          "text": [
            "0.7462121\n"
          ],
          "name": "stdout"
        }
      ]
    },
    {
      "cell_type": "markdown",
      "metadata": {
        "id": "b9raENxyDqAj",
        "colab_type": "text"
      },
      "source": [
        "We can use the `.predict()` method to get survival probabilities from the model. This method will return a list of dicts that store a predicition for each of the entries in our testing data set. Below we've used some pandas magic to plot a nice graph of the predictions."
      ]
    },
    {
      "cell_type": "code",
      "metadata": {
        "id": "KStWDgzDDtJU",
        "colab_type": "code",
        "outputId": "1e7c4a6c-0599-4956-892f-6dbab6424271",
        "colab": {
          "base_uri": "https://localhost:8080/"
        }
      },
      "source": [
        "pred_dicts = list(linear_est.predict(eval_input_fn))\n",
        "probs = pd.Series([pred['probabilities'][1] for pred in pred_dicts])\n",
        "\n",
        "probs.plot(kind = 'hist', bins = 20, title = 'predicted probabilities')\n",
        "plt.show()\n",
        "# the survival rate is not very high "
      ],
      "execution_count": 0,
      "outputs": [
        {
          "output_type": "stream",
          "text": [
            "INFO:tensorflow:Calling model_fn.\n",
            "WARNING:tensorflow:Layer linear/linear_model is casting an input tensor from dtype float64 to the layer's dtype of float32, which is new behavior in TensorFlow 2.  The layer has dtype float32 because it's dtype defaults to floatx.\n",
            "\n",
            "If you intended to run this layer in float32, you can safely ignore this warning. If in doubt, this warning is likely only an issue if you are porting a TensorFlow 1.X model to TensorFlow 2.\n",
            "\n",
            "To change all layers to have dtype float64 by default, call `tf.keras.backend.set_floatx('float64')`. To change just this layer, pass dtype='float64' to the layer constructor. If you are the author of this layer, you can disable autocasting by passing autocast=False to the base Layer constructor.\n",
            "\n",
            "INFO:tensorflow:Done calling model_fn.\n",
            "INFO:tensorflow:Graph was finalized.\n",
            "INFO:tensorflow:Restoring parameters from /tmp/tmp7apry67q/model.ckpt-200\n",
            "INFO:tensorflow:Running local_init_op.\n",
            "INFO:tensorflow:Done running local_init_op.\n"
          ],
          "name": "stdout"
        },
        {
          "output_type": "display_data",
          "data": {
            "image/png": "[encoded data removed]",
            "text/plain": [
              "<Figure size 432x288 with 1 Axes>"
            ]
          },
          "metadata": {
            "tags": []
          }
        }
      ]
    },
    {
      "cell_type": "markdown",
      "metadata": {
        "id": "j7D7mau0F-pb",
        "colab_type": "text"
      },
      "source": [
        "# Classification\n",
        "classification is used to seperate data points into classes of different labels. In this example we will use a TensorFlow estimator to classify flowers."
      ]
    },
    {
      "cell_type": "code",
      "metadata": {
        "id": "ZWphi5pGGDWS",
        "colab_type": "code",
        "colab": {}
      },
      "source": [
        "%tensorflow_version 2.x\n",
        "from __future__ import absolute_import, division, print_function, unicode_literals\n",
        "\n",
        "import tensorflow as tf\n",
        "\n",
        "import pandas as pd"
      ],
      "execution_count": 0,
      "outputs": []
    },
    {
      "cell_type": "markdown",
      "metadata": {
        "id": "BvdS-S5fGZiF",
        "colab_type": "text"
      },
      "source": [
        "# Data set \n"
      ]
    },
    {
      "cell_type": "code",
      "metadata": {
        "id": "HISXzymPI3ic",
        "colab_type": "code",
        "outputId": "f1e10461-bbb6-47fd-8002-41266519804e",
        "colab": {
          "base_uri": "https://localhost:8080/"
        }
      },
      "source": [
        "CSV_COLUMN_NAMES = ['SepalLength', 'SepalWidth', 'PetalLength', 'PetalWidth', 'Species']\n",
        "SPECIES = ['Setosa', 'Versicolor', 'Virginica']\n",
        "# define some constants to help us later on\n",
        "\n",
        "train_path = tf.keras.utils.get_file(\n",
        "    \"iris_training.csv\", \"https://storage.googleapis.com/download.tensorflow.org/data/iris_training.csv\")\n",
        "test_path = tf.keras.utils.get_file(\n",
        "    \"iris_test.csv\", \"https://storage.googleapis.com/download.tensorflow.org/data/iris_test.csv\")\n",
        "\n",
        "train = pd.read_csv(train_path, names=CSV_COLUMN_NAMES, header=0)\n",
        "test = pd.read_csv(test_path, names=CSV_COLUMN_NAMES, header=0)\n"
      ],
      "execution_count": 0,
      "outputs": [
        {
          "output_type": "stream",
          "text": [
            "Downloading data from https://storage.googleapis.com/download.tensorflow.org/data/iris_training.csv\n",
            "8192/2194 [================================================================================================================] - 0s 0us/step\n",
            "Downloading data from https://storage.googleapis.com/download.tensorflow.org/data/iris_test.csv\n",
            "8192/573 [============================================================================================================================================================================================================================================================================================================================================================================================================================================] - 0s 0us/step\n"
          ],
          "name": "stdout"
        }
      ]
    },
    {
      "cell_type": "code",
      "metadata": {
        "id": "smV5z_eR9r-l",
        "colab_type": "code",
        "outputId": "1f8c2877-b44b-490c-c77f-2a0e8fc53bae",
        "colab": {
          "base_uri": "https://localhost:8080/"
        }
      },
      "source": [
        "train.head()"
      ],
      "execution_count": 0,
      "outputs": [
        {
          "output_type": "execute_result",
          "data": {
            "text/html": [
              "<div>\n",
              "<style scoped>\n",
              "    .dataframe tbody tr th:only-of-type {\n",
              "        vertical-align: middle;\n",
              "    }\n",
              "\n",
              "    .dataframe tbody tr th {\n",
              "        vertical-align: top;\n",
              "    }\n",
              "\n",
              "    .dataframe thead th {\n",
              "        text-align: right;\n",
              "    }\n",
              "</style>\n",
              "<table border=\"1\" class=\"dataframe\">\n",
              "  <thead>\n",
              "    <tr style=\"text-align: right;\">\n",
              "      <th></th>\n",
              "      <th>SepalLength</th>\n",
              "      <th>SepalWidth</th>\n",
              "      <th>PetalLength</th>\n",
              "      <th>PetalWidth</th>\n",
              "      <th>Species</th>\n",
              "    </tr>\n",
              "  </thead>\n",
              "  <tbody>\n",
              "    <tr>\n",
              "      <th>0</th>\n",
              "      <td>6.4</td>\n",
              "      <td>2.8</td>\n",
              "      <td>5.6</td>\n",
              "      <td>2.2</td>\n",
              "      <td>2</td>\n",
              "    </tr>\n",
              "    <tr>\n",
              "      <th>1</th>\n",
              "      <td>5.0</td>\n",
              "      <td>2.3</td>\n",
              "      <td>3.3</td>\n",
              "      <td>1.0</td>\n",
              "      <td>1</td>\n",
              "    </tr>\n",
              "    <tr>\n",
              "      <th>2</th>\n",
              "      <td>4.9</td>\n",
              "      <td>2.5</td>\n",
              "      <td>4.5</td>\n",
              "      <td>1.7</td>\n",
              "      <td>2</td>\n",
              "    </tr>\n",
              "    <tr>\n",
              "      <th>3</th>\n",
              "      <td>4.9</td>\n",
              "      <td>3.1</td>\n",
              "      <td>1.5</td>\n",
              "      <td>0.1</td>\n",
              "      <td>0</td>\n",
              "    </tr>\n",
              "    <tr>\n",
              "      <th>4</th>\n",
              "      <td>5.7</td>\n",
              "      <td>3.8</td>\n",
              "      <td>1.7</td>\n",
              "      <td>0.3</td>\n",
              "      <td>0</td>\n",
              "    </tr>\n",
              "  </tbody>\n",
              "</table>\n",
              "</div>"
            ],
            "text/plain": [
              "   SepalLength  SepalWidth  PetalLength  PetalWidth  Species\n",
              "0          6.4         2.8          5.6         2.2        2\n",
              "1          5.0         2.3          3.3         1.0        1\n",
              "2          4.9         2.5          4.5         1.7        2\n",
              "3          4.9         3.1          1.5         0.1        0\n",
              "4          5.7         3.8          1.7         0.3        0"
            ]
          },
          "metadata": {
            "tags": []
          },
          "execution_count": 32
        }
      ]
    },
    {
      "cell_type": "code",
      "metadata": {
        "id": "zH9usZ8094pI",
        "colab_type": "code",
        "outputId": "8fadbe33-d01b-498f-f41a-2693980017f2",
        "colab": {
          "base_uri": "https://localhost:8080/"
        }
      },
      "source": [
        "train_y = train.pop('Species')# pop 'Species' column, using it as test column \n",
        "test_y = test.pop('Species')\n",
        "\n",
        "train.head()"
      ],
      "execution_count": 0,
      "outputs": [
        {
          "output_type": "execute_result",
          "data": {
            "text/html": [
              "<div>\n",
              "<style scoped>\n",
              "    .dataframe tbody tr th:only-of-type {\n",
              "        vertical-align: middle;\n",
              "    }\n",
              "\n",
              "    .dataframe tbody tr th {\n",
              "        vertical-align: top;\n",
              "    }\n",
              "\n",
              "    .dataframe thead th {\n",
              "        text-align: right;\n",
              "    }\n",
              "</style>\n",
              "<table border=\"1\" class=\"dataframe\">\n",
              "  <thead>\n",
              "    <tr style=\"text-align: right;\">\n",
              "      <th></th>\n",
              "      <th>SepalLength</th>\n",
              "      <th>SepalWidth</th>\n",
              "      <th>PetalLength</th>\n",
              "      <th>PetalWidth</th>\n",
              "    </tr>\n",
              "  </thead>\n",
              "  <tbody>\n",
              "    <tr>\n",
              "      <th>0</th>\n",
              "      <td>6.4</td>\n",
              "      <td>2.8</td>\n",
              "      <td>5.6</td>\n",
              "      <td>2.2</td>\n",
              "    </tr>\n",
              "    <tr>\n",
              "      <th>1</th>\n",
              "      <td>5.0</td>\n",
              "      <td>2.3</td>\n",
              "      <td>3.3</td>\n",
              "      <td>1.0</td>\n",
              "    </tr>\n",
              "    <tr>\n",
              "      <th>2</th>\n",
              "      <td>4.9</td>\n",
              "      <td>2.5</td>\n",
              "      <td>4.5</td>\n",
              "      <td>1.7</td>\n",
              "    </tr>\n",
              "    <tr>\n",
              "      <th>3</th>\n",
              "      <td>4.9</td>\n",
              "      <td>3.1</td>\n",
              "      <td>1.5</td>\n",
              "      <td>0.1</td>\n",
              "    </tr>\n",
              "    <tr>\n",
              "      <th>4</th>\n",
              "      <td>5.7</td>\n",
              "      <td>3.8</td>\n",
              "      <td>1.7</td>\n",
              "      <td>0.3</td>\n",
              "    </tr>\n",
              "  </tbody>\n",
              "</table>\n",
              "</div>"
            ],
            "text/plain": [
              "   SepalLength  SepalWidth  PetalLength  PetalWidth\n",
              "0          6.4         2.8          5.6         2.2\n",
              "1          5.0         2.3          3.3         1.0\n",
              "2          4.9         2.5          4.5         1.7\n",
              "3          4.9         3.1          1.5         0.1\n",
              "4          5.7         3.8          1.7         0.3"
            ]
          },
          "metadata": {
            "tags": []
          },
          "execution_count": 33
        }
      ]
    },
    {
      "cell_type": "code",
      "metadata": {
        "id": "jFofLAg2_tnu",
        "colab_type": "code",
        "outputId": "e92a05c7-ec9c-466c-bd32-77157debdd53",
        "colab": {
          "base_uri": "https://localhost:8080/"
        }
      },
      "source": [
        "train.shape"
      ],
      "execution_count": 0,
      "outputs": [
        {
          "output_type": "execute_result",
          "data": {
            "text/plain": [
              "(120, 4)"
            ]
          },
          "metadata": {
            "tags": []
          },
          "execution_count": 34
        }
      ]
    },
    {
      "cell_type": "markdown",
      "metadata": {
        "id": "M59KYI4TAf4r",
        "colab_type": "text"
      },
      "source": [
        "# Input Function"
      ]
    },
    {
      "cell_type": "code",
      "metadata": {
        "id": "UWlNAwF7AnJQ",
        "colab_type": "code",
        "colab": {}
      },
      "source": [
        "def input_fn(features, labels, training=True, batch_size=256):\n",
        "    # Convert the inputs to a Dataset.\n",
        "    dataset = tf.data.Dataset.from_tensor_slices((dict(features), labels))\n",
        "\n",
        "    # Shuffle and repeat if you are in training mode.\n",
        "    if training:\n",
        "        dataset = dataset.shuffle(1000).repeat()\n",
        "    \n",
        "    return dataset.batch(batch_size)"
      ],
      "execution_count": 0,
      "outputs": []
    },
    {
      "cell_type": "markdown",
      "metadata": {
        "id": "0dEPJFn9CCzZ",
        "colab_type": "text"
      },
      "source": [
        "# Feature Columns "
      ]
    },
    {
      "cell_type": "code",
      "metadata": {
        "id": "-gjQRm8cCFmc",
        "colab_type": "code",
        "outputId": "a7287a21-edd9-4ef5-ae46-dc52ae99f766",
        "colab": {
          "base_uri": "https://localhost:8080/"
        }
      },
      "source": [
        "my_feature_coulumns = []\n",
        "for key in train.keys():\n",
        "  my_feature_coulumns.append(tf.feature_column.numeric_column(key = key))\n",
        "print(my_feature_coulumns)"
      ],
      "execution_count": 0,
      "outputs": [
        {
          "output_type": "stream",
          "text": [
            "[NumericColumn(key='SepalLength', shape=(1,), default_value=None, dtype=tf.float32, normalizer_fn=None), NumericColumn(key='SepalWidth', shape=(1,), default_value=None, dtype=tf.float32, normalizer_fn=None), NumericColumn(key='PetalLength', shape=(1,), default_value=None, dtype=tf.float32, normalizer_fn=None), NumericColumn(key='PetalWidth', shape=(1,), default_value=None, dtype=tf.float32, normalizer_fn=None)]\n"
          ],
          "name": "stdout"
        }
      ]
    },
    {
      "cell_type": "markdown",
      "metadata": {
        "id": "uQQezAwXEdFf",
        "colab_type": "text"
      },
      "source": [
        "# Building the model\n",
        "`DNNClassifier` Deep neural network"
      ]
    },
    {
      "cell_type": "code",
      "metadata": {
        "id": "JJ08mydpEu01",
        "colab_type": "code",
        "outputId": "5c9f7f1a-8442-4091-cb3c-b0c5d4ecf815",
        "colab": {
          "base_uri": "https://localhost:8080/"
        }
      },
      "source": [
        "# Build a DNN with 2 hidden layers with 30 and 10 hidden nodes each.\n",
        "classifier = tf.estimator.DNNClassifier(\n",
        "    feature_columns = my_feature_coulumns,\n",
        "    # Two hidden layers of 30 and 10 nodes respectively.\n",
        "    hidden_units = [30, 10],\n",
        "    # The model must choose between 3 classes.\n",
        "    n_classes = 3\n",
        ")"
      ],
      "execution_count": 0,
      "outputs": [
        {
          "output_type": "stream",
          "text": [
            "INFO:tensorflow:Using default config.\n",
            "WARNING:tensorflow:Using temporary folder as model directory: /tmp/tmpv3xmfsxg\n",
            "INFO:tensorflow:Using config: {'_model_dir': '/tmp/tmpv3xmfsxg', '_tf_random_seed': None, '_save_summary_steps': 100, '_save_checkpoints_steps': None, '_save_checkpoints_secs': 600, '_session_config': allow_soft_placement: true\n",
            "graph_options {\n",
            "  rewrite_options {\n",
            "    meta_optimizer_iterations: ONE\n",
            "  }\n",
            "}\n",
            ", '_keep_checkpoint_max': 5, '_keep_checkpoint_every_n_hours': 10000, '_log_step_count_steps': 100, '_train_distribute': None, '_device_fn': None, '_protocol': None, '_eval_distribute': None, '_experimental_distribute': None, '_experimental_max_worker_delay_secs': None, '_session_creation_timeout_secs': 7200, '_service': None, '_cluster_spec': ClusterSpec({}), '_task_type': 'worker', '_task_id': 0, '_global_id_in_cluster': 0, '_master': '', '_evaluation_master': '', '_is_chief': True, '_num_ps_replicas': 0, '_num_worker_replicas': 1}\n"
          ],
          "name": "stdout"
        }
      ]
    },
    {
      "cell_type": "markdown",
      "metadata": {
        "id": "g04rU-LBF0Tw",
        "colab_type": "text"
      },
      "source": [
        "# Training"
      ]
    },
    {
      "cell_type": "code",
      "metadata": {
        "id": "oPaMbThIF5QR",
        "colab_type": "code",
        "outputId": "fbf26778-077d-4772-b483-b57c17292905",
        "colab": {
          "base_uri": "https://localhost:8080/"
        }
      },
      "source": [
        "classifier.train(\n",
        "    input_fn=lambda: input_fn(train, train_y, training=True),\n",
        "    steps=5000)"
      ],
      "execution_count": 0,
      "outputs": [
        {
          "output_type": "stream",
          "text": [
            "INFO:tensorflow:Calling model_fn.\n",
            "WARNING:tensorflow:Layer dnn is casting an input tensor from dtype float64 to the layer's dtype of float32, which is new behavior in TensorFlow 2.  The layer has dtype float32 because it's dtype defaults to floatx.\n",
            "\n",
            "If you intended to run this layer in float32, you can safely ignore this warning. If in doubt, this warning is likely only an issue if you are porting a TensorFlow 1.X model to TensorFlow 2.\n",
            "\n",
            "To change all layers to have dtype float64 by default, call `tf.keras.backend.set_floatx('float64')`. To change just this layer, pass dtype='float64' to the layer constructor. If you are the author of this layer, you can disable autocasting by passing autocast=False to the base Layer constructor.\n",
            "\n",
            "INFO:tensorflow:Done calling model_fn.\n",
            "INFO:tensorflow:Create CheckpointSaverHook.\n",
            "INFO:tensorflow:Graph was finalized.\n",
            "INFO:tensorflow:Running local_init_op.\n",
            "INFO:tensorflow:Done running local_init_op.\n",
            "INFO:tensorflow:Calling checkpoint listeners before saving checkpoint 0...\n",
            "INFO:tensorflow:Saving checkpoints for 0 into /tmp/tmpv3xmfsxg/model.ckpt.\n",
            "INFO:tensorflow:Calling checkpoint listeners after saving checkpoint 0...\n",
            "INFO:tensorflow:loss = 1.5565261, step = 0\n",
            "INFO:tensorflow:global_step/sec: 493.29\n",
            "INFO:tensorflow:loss = 1.1310816, step = 100 (0.207 sec)\n",
            "INFO:tensorflow:global_step/sec: 634.365\n",
            "INFO:tensorflow:loss = 1.0798585, step = 200 (0.155 sec)\n",
            "INFO:tensorflow:global_step/sec: 569.376\n",
            "INFO:tensorflow:loss = 1.0434058, step = 300 (0.178 sec)\n",
            "INFO:tensorflow:global_step/sec: 576.579\n",
            "INFO:tensorflow:loss = 1.0160561, step = 400 (0.173 sec)\n",
            "INFO:tensorflow:global_step/sec: 591.22\n",
            "INFO:tensorflow:loss = 0.99673146, step = 500 (0.171 sec)\n",
            "INFO:tensorflow:global_step/sec: 604.614\n",
            "INFO:tensorflow:loss = 0.9805958, step = 600 (0.165 sec)\n",
            "INFO:tensorflow:global_step/sec: 626.199\n",
            "INFO:tensorflow:loss = 0.96388346, step = 700 (0.160 sec)\n",
            "INFO:tensorflow:global_step/sec: 649.543\n",
            "INFO:tensorflow:loss = 0.95088625, step = 800 (0.151 sec)\n",
            "INFO:tensorflow:global_step/sec: 652.974\n",
            "INFO:tensorflow:loss = 0.9379771, step = 900 (0.154 sec)\n",
            "INFO:tensorflow:global_step/sec: 621.606\n",
            "INFO:tensorflow:loss = 0.9258481, step = 1000 (0.161 sec)\n",
            "INFO:tensorflow:global_step/sec: 566.979\n",
            "INFO:tensorflow:loss = 0.91039115, step = 1100 (0.178 sec)\n",
            "INFO:tensorflow:global_step/sec: 620.706\n",
            "INFO:tensorflow:loss = 0.89714205, step = 1200 (0.159 sec)\n",
            "INFO:tensorflow:global_step/sec: 580.034\n",
            "INFO:tensorflow:loss = 0.88550514, step = 1300 (0.175 sec)\n",
            "INFO:tensorflow:global_step/sec: 594.513\n",
            "INFO:tensorflow:loss = 0.8725026, step = 1400 (0.168 sec)\n",
            "INFO:tensorflow:global_step/sec: 614.746\n",
            "INFO:tensorflow:loss = 0.8607949, step = 1500 (0.163 sec)\n",
            "INFO:tensorflow:global_step/sec: 654.231\n",
            "INFO:tensorflow:loss = 0.84727526, step = 1600 (0.150 sec)\n",
            "INFO:tensorflow:global_step/sec: 619.076\n",
            "INFO:tensorflow:loss = 0.8198477, step = 1700 (0.161 sec)\n",
            "INFO:tensorflow:global_step/sec: 635.08\n",
            "INFO:tensorflow:loss = 0.78250813, step = 1800 (0.160 sec)\n",
            "INFO:tensorflow:global_step/sec: 633.985\n",
            "INFO:tensorflow:loss = 0.77490777, step = 1900 (0.157 sec)\n",
            "INFO:tensorflow:global_step/sec: 578.017\n",
            "INFO:tensorflow:loss = 0.7395581, step = 2000 (0.171 sec)\n",
            "INFO:tensorflow:global_step/sec: 613.626\n",
            "INFO:tensorflow:loss = 0.7221132, step = 2100 (0.165 sec)\n",
            "INFO:tensorflow:global_step/sec: 585.535\n",
            "INFO:tensorflow:loss = 0.7065987, step = 2200 (0.168 sec)\n",
            "INFO:tensorflow:global_step/sec: 590.859\n",
            "INFO:tensorflow:loss = 0.6937405, step = 2300 (0.169 sec)\n",
            "INFO:tensorflow:global_step/sec: 568.118\n",
            "INFO:tensorflow:loss = 0.6757909, step = 2400 (0.177 sec)\n",
            "INFO:tensorflow:global_step/sec: 544.455\n",
            "INFO:tensorflow:loss = 0.6628165, step = 2500 (0.184 sec)\n",
            "INFO:tensorflow:global_step/sec: 578.918\n",
            "INFO:tensorflow:loss = 0.6583582, step = 2600 (0.171 sec)\n",
            "INFO:tensorflow:global_step/sec: 607.496\n",
            "INFO:tensorflow:loss = 0.64347947, step = 2700 (0.165 sec)\n",
            "INFO:tensorflow:global_step/sec: 582.36\n",
            "INFO:tensorflow:loss = 0.62913746, step = 2800 (0.172 sec)\n",
            "INFO:tensorflow:global_step/sec: 563.573\n",
            "INFO:tensorflow:loss = 0.62091196, step = 2900 (0.180 sec)\n",
            "INFO:tensorflow:global_step/sec: 559.787\n",
            "INFO:tensorflow:loss = 0.6081325, step = 3000 (0.177 sec)\n",
            "INFO:tensorflow:global_step/sec: 591.6\n",
            "INFO:tensorflow:loss = 0.5915068, step = 3100 (0.168 sec)\n",
            "INFO:tensorflow:global_step/sec: 587.271\n",
            "INFO:tensorflow:loss = 0.6016899, step = 3200 (0.174 sec)\n",
            "INFO:tensorflow:global_step/sec: 620.13\n",
            "INFO:tensorflow:loss = 0.5787646, step = 3300 (0.158 sec)\n",
            "INFO:tensorflow:global_step/sec: 606.154\n",
            "INFO:tensorflow:loss = 0.5736659, step = 3400 (0.166 sec)\n",
            "INFO:tensorflow:global_step/sec: 597.42\n",
            "INFO:tensorflow:loss = 0.56256104, step = 3500 (0.170 sec)\n",
            "INFO:tensorflow:global_step/sec: 581.142\n",
            "INFO:tensorflow:loss = 0.54852617, step = 3600 (0.172 sec)\n",
            "INFO:tensorflow:global_step/sec: 606.498\n",
            "INFO:tensorflow:loss = 0.55364776, step = 3700 (0.163 sec)\n",
            "INFO:tensorflow:global_step/sec: 598.057\n",
            "INFO:tensorflow:loss = 0.5538424, step = 3800 (0.169 sec)\n",
            "INFO:tensorflow:global_step/sec: 613.983\n",
            "INFO:tensorflow:loss = 0.53141975, step = 3900 (0.162 sec)\n",
            "INFO:tensorflow:global_step/sec: 606.174\n",
            "INFO:tensorflow:loss = 0.531932, step = 4000 (0.165 sec)\n",
            "INFO:tensorflow:global_step/sec: 633.748\n",
            "INFO:tensorflow:loss = 0.5300951, step = 4100 (0.158 sec)\n",
            "INFO:tensorflow:global_step/sec: 602.749\n",
            "INFO:tensorflow:loss = 0.51343775, step = 4200 (0.165 sec)\n",
            "INFO:tensorflow:global_step/sec: 607.115\n",
            "INFO:tensorflow:loss = 0.50057894, step = 4300 (0.163 sec)\n",
            "INFO:tensorflow:global_step/sec: 586.079\n",
            "INFO:tensorflow:loss = 0.4955484, step = 4400 (0.171 sec)\n",
            "INFO:tensorflow:global_step/sec: 599.759\n",
            "INFO:tensorflow:loss = 0.49980223, step = 4500 (0.169 sec)\n",
            "INFO:tensorflow:global_step/sec: 632.801\n",
            "INFO:tensorflow:loss = 0.48187366, step = 4600 (0.155 sec)\n",
            "INFO:tensorflow:global_step/sec: 593.386\n",
            "INFO:tensorflow:loss = 0.4857701, step = 4700 (0.171 sec)\n",
            "INFO:tensorflow:global_step/sec: 608.064\n",
            "INFO:tensorflow:loss = 0.48916978, step = 4800 (0.164 sec)\n",
            "INFO:tensorflow:global_step/sec: 630.029\n",
            "INFO:tensorflow:loss = 0.47923595, step = 4900 (0.156 sec)\n",
            "INFO:tensorflow:Calling checkpoint listeners before saving checkpoint 5000...\n",
            "INFO:tensorflow:Saving checkpoints for 5000 into /tmp/tmpv3xmfsxg/model.ckpt.\n",
            "INFO:tensorflow:Calling checkpoint listeners after saving checkpoint 5000...\n",
            "INFO:tensorflow:Loss for final step: 0.48603445.\n"
          ],
          "name": "stdout"
        },
        {
          "output_type": "execute_result",
          "data": {
            "text/plain": [
              "<tensorflow_estimator.python.estimator.canned.dnn.DNNClassifierV2 at 0x7f76734bb1d0>"
            ]
          },
          "metadata": {
            "tags": []
          },
          "execution_count": 38
        }
      ]
    },
    {
      "cell_type": "markdown",
      "metadata": {
        "id": "mgTAPyp7IC8I",
        "colab_type": "text"
      },
      "source": [
        "# Evaluate the results"
      ]
    },
    {
      "cell_type": "code",
      "metadata": {
        "id": "M8miGtz6IHC1",
        "colab_type": "code",
        "outputId": "65e84e06-e404-4073-d676-1313bc281142",
        "colab": {
          "base_uri": "https://localhost:8080/"
        }
      },
      "source": [
        "eval_result = classifier.evaluate(\n",
        "    input_fn=lambda: input_fn(test, test_y, training=False))\n",
        "\n",
        "print('\\nTest set accuracy: {accuracy:0.3f}\\n'.format(**eval_result))"
      ],
      "execution_count": 0,
      "outputs": [
        {
          "output_type": "stream",
          "text": [
            "INFO:tensorflow:Calling model_fn.\n",
            "WARNING:tensorflow:Layer dnn is casting an input tensor from dtype float64 to the layer's dtype of float32, which is new behavior in TensorFlow 2.  The layer has dtype float32 because it's dtype defaults to floatx.\n",
            "\n",
            "If you intended to run this layer in float32, you can safely ignore this warning. If in doubt, this warning is likely only an issue if you are porting a TensorFlow 1.X model to TensorFlow 2.\n",
            "\n",
            "To change all layers to have dtype float64 by default, call `tf.keras.backend.set_floatx('float64')`. To change just this layer, pass dtype='float64' to the layer constructor. If you are the author of this layer, you can disable autocasting by passing autocast=False to the base Layer constructor.\n",
            "\n",
            "INFO:tensorflow:Done calling model_fn.\n",
            "INFO:tensorflow:Starting evaluation at 2020-04-03T14:34:22Z\n",
            "INFO:tensorflow:Graph was finalized.\n",
            "INFO:tensorflow:Restoring parameters from /tmp/tmpv3xmfsxg/model.ckpt-5000\n",
            "INFO:tensorflow:Running local_init_op.\n",
            "INFO:tensorflow:Done running local_init_op.\n",
            "INFO:tensorflow:Inference Time : 0.23548s\n",
            "INFO:tensorflow:Finished evaluation at 2020-04-03-14:34:22\n",
            "INFO:tensorflow:Saving dict for global step 5000: accuracy = 0.9, average_loss = 0.54062736, global_step = 5000, loss = 0.54062736\n",
            "INFO:tensorflow:Saving 'checkpoint_path' summary for global step 5000: /tmp/tmpv3xmfsxg/model.ckpt-5000\n",
            "\n",
            "Test set accuracy: 0.900\n",
            "\n"
          ],
          "name": "stdout"
        }
      ]
    },
    {
      "cell_type": "markdown",
      "metadata": {
        "id": "4W3hUg_ZLWJL",
        "colab_type": "text"
      },
      "source": [
        "# Prediction "
      ]
    },
    {
      "cell_type": "code",
      "metadata": {
        "id": "vryhNV_2LnDA",
        "colab_type": "code",
        "outputId": "2a9bc2bb-2148-4a9b-98b8-6fec8f183b71",
        "colab": {
          "base_uri": "https://localhost:8080/",
          "height": 568
        }
      },
      "source": [
        "def input_fn(features, batch_size = 256):\n",
        "  return tf.data.Dataset.from_tensor_slices(dict(freatures).batch(batch_size))\n",
        "\n",
        "features = ['SepalLength', 'SepalWidth', 'PetalLength', 'PetalWidth']\n",
        "predict = {}\n",
        "\n",
        "print(\"Please type numeric values as prompted.\")\n",
        "for feature in features:\n",
        "  valid = True\n",
        "  while valid :\n",
        "    val = input (feature + \":\")\n",
        "    if not val.isdigit(): valid = False\n",
        "  predict[feature] = [float(val)]\n",
        "\n",
        "predictions = classifier.predict(input_fn=lambda: input_fn(predict))\n",
        "for pred_dict in predictions:\n",
        "    class_id = pred_dict['class_ids'][0]\n",
        "    probability = pred_dict['probabilities'][class_id]\n",
        "\n",
        "    print('Prediction is \"{}\" ({:.1f}%)'.format(\n",
        "        SPECIES[class_id], 100 * probability))\n",
        "\n",
        "expected = ['Setosa', 'Versicolor', 'Virginica']\n",
        "predict_x = {\n",
        "    'SepalLength': [5.1, 5.9, 6.9],\n",
        "    'SepalWidth': [3.3, 3.0, 3.1],\n",
        "    'PetalLength': [1.7, 4.2, 5.4],\n",
        "    'PetalWidth': [0.5, 1.5, 2.1],\n",
        "}"
      ],
      "execution_count": 0,
      "outputs": [
        {
          "output_type": "stream",
          "text": [
            "Please type numeric values as prompted.\n"
          ],
          "name": "stdout"
        },
        {
          "output_type": "error",
          "ename": "KeyboardInterrupt",
          "evalue": "ignored",
          "traceback": [
            "\u001b[0;31m---------------------------------------------------------------------------\u001b[0m",
            "\u001b[0;31mKeyboardInterrupt\u001b[0m                         Traceback (most recent call last)",
            "\u001b[0;32m/usr/local/lib/python3.6/dist-packages/ipykernel/kernelbase.py\u001b[0m in \u001b[0;36m_input_request\u001b[0;34m(self, prompt, ident, parent, password)\u001b[0m\n\u001b[1;32m    729\u001b[0m             \u001b[0;32mtry\u001b[0m\u001b[0;34m:\u001b[0m\u001b[0;34m\u001b[0m\u001b[0;34m\u001b[0m\u001b[0m\n\u001b[0;32m--> 730\u001b[0;31m                 \u001b[0mident\u001b[0m\u001b[0;34m,\u001b[0m \u001b[0mreply\u001b[0m \u001b[0;34m=\u001b[0m \u001b[0mself\u001b[0m\u001b[0;34m.\u001b[0m\u001b[0msession\u001b[0m\u001b[0;34m.\u001b[0m\u001b[0mrecv\u001b[0m\u001b[0;34m(\u001b[0m\u001b[0mself\u001b[0m\u001b[0;34m.\u001b[0m\u001b[0mstdin_socket\u001b[0m\u001b[0;34m,\u001b[0m \u001b[0;36m0\u001b[0m\u001b[0;34m)\u001b[0m\u001b[0;34m\u001b[0m\u001b[0;34m\u001b[0m\u001b[0m\n\u001b[0m\u001b[1;32m    731\u001b[0m             \u001b[0;32mexcept\u001b[0m \u001b[0mException\u001b[0m\u001b[0;34m:\u001b[0m\u001b[0;34m\u001b[0m\u001b[0;34m\u001b[0m\u001b[0m\n",
            "\u001b[0;32m/usr/local/lib/python3.6/dist-packages/jupyter_client/session.py\u001b[0m in \u001b[0;36mrecv\u001b[0;34m(self, socket, mode, content, copy)\u001b[0m\n\u001b[1;32m    802\u001b[0m         \u001b[0;32mtry\u001b[0m\u001b[0;34m:\u001b[0m\u001b[0;34m\u001b[0m\u001b[0;34m\u001b[0m\u001b[0m\n\u001b[0;32m--> 803\u001b[0;31m             \u001b[0mmsg_list\u001b[0m \u001b[0;34m=\u001b[0m \u001b[0msocket\u001b[0m\u001b[0;34m.\u001b[0m\u001b[0mrecv_multipart\u001b[0m\u001b[0;34m(\u001b[0m\u001b[0mmode\u001b[0m\u001b[0;34m,\u001b[0m \u001b[0mcopy\u001b[0m\u001b[0;34m=\u001b[0m\u001b[0mcopy\u001b[0m\u001b[0;34m)\u001b[0m\u001b[0;34m\u001b[0m\u001b[0;34m\u001b[0m\u001b[0m\n\u001b[0m\u001b[1;32m    804\u001b[0m         \u001b[0;32mexcept\u001b[0m \u001b[0mzmq\u001b[0m\u001b[0;34m.\u001b[0m\u001b[0mZMQError\u001b[0m \u001b[0;32mas\u001b[0m \u001b[0me\u001b[0m\u001b[0;34m:\u001b[0m\u001b[0;34m\u001b[0m\u001b[0;34m\u001b[0m\u001b[0m\n",
            "\u001b[0;32m/usr/local/lib/python3.6/dist-packages/zmq/sugar/socket.py\u001b[0m in \u001b[0;36mrecv_multipart\u001b[0;34m(self, flags, copy, track)\u001b[0m\n\u001b[1;32m    465\u001b[0m         \"\"\"\n\u001b[0;32m--> 466\u001b[0;31m         \u001b[0mparts\u001b[0m \u001b[0;34m=\u001b[0m \u001b[0;34m[\u001b[0m\u001b[0mself\u001b[0m\u001b[0;34m.\u001b[0m\u001b[0mrecv\u001b[0m\u001b[0;34m(\u001b[0m\u001b[0mflags\u001b[0m\u001b[0;34m,\u001b[0m \u001b[0mcopy\u001b[0m\u001b[0;34m=\u001b[0m\u001b[0mcopy\u001b[0m\u001b[0;34m,\u001b[0m \u001b[0mtrack\u001b[0m\u001b[0;34m=\u001b[0m\u001b[0mtrack\u001b[0m\u001b[0;34m)\u001b[0m\u001b[0;34m]\u001b[0m\u001b[0;34m\u001b[0m\u001b[0;34m\u001b[0m\u001b[0m\n\u001b[0m\u001b[1;32m    467\u001b[0m         \u001b[0;31m# have first part already, only loop while more to receive\u001b[0m\u001b[0;34m\u001b[0m\u001b[0;34m\u001b[0m\u001b[0;34m\u001b[0m\u001b[0m\n",
            "\u001b[0;32mzmq/backend/cython/socket.pyx\u001b[0m in \u001b[0;36mzmq.backend.cython.socket.Socket.recv\u001b[0;34m()\u001b[0m\n",
            "\u001b[0;32mzmq/backend/cython/socket.pyx\u001b[0m in \u001b[0;36mzmq.backend.cython.socket.Socket.recv\u001b[0;34m()\u001b[0m\n",
            "\u001b[0;32mzmq/backend/cython/socket.pyx\u001b[0m in \u001b[0;36mzmq.backend.cython.socket._recv_copy\u001b[0;34m()\u001b[0m\n",
            "\u001b[0;32m/usr/local/lib/python3.6/dist-packages/zmq/backend/cython/checkrc.pxd\u001b[0m in \u001b[0;36mzmq.backend.cython.checkrc._check_rc\u001b[0;34m()\u001b[0m\n",
            "\u001b[0;31mKeyboardInterrupt\u001b[0m: ",
            "\nDuring handling of the above exception, another exception occurred:\n",
            "\u001b[0;31mKeyboardInterrupt\u001b[0m                         Traceback (most recent call last)",
            "\u001b[0;32m<ipython-input-40-509fff5093e4>\u001b[0m in \u001b[0;36m<module>\u001b[0;34m()\u001b[0m\n\u001b[1;32m      9\u001b[0m   \u001b[0mvalid\u001b[0m \u001b[0;34m=\u001b[0m \u001b[0;32mTrue\u001b[0m\u001b[0;34m\u001b[0m\u001b[0;34m\u001b[0m\u001b[0m\n\u001b[1;32m     10\u001b[0m   \u001b[0;32mwhile\u001b[0m \u001b[0mvalid\u001b[0m \u001b[0;34m:\u001b[0m\u001b[0;34m\u001b[0m\u001b[0;34m\u001b[0m\u001b[0m\n\u001b[0;32m---> 11\u001b[0;31m     \u001b[0mval\u001b[0m \u001b[0;34m=\u001b[0m \u001b[0minput\u001b[0m \u001b[0;34m(\u001b[0m\u001b[0mfeature\u001b[0m \u001b[0;34m+\u001b[0m \u001b[0;34m\":\"\u001b[0m\u001b[0;34m)\u001b[0m\u001b[0;34m\u001b[0m\u001b[0;34m\u001b[0m\u001b[0m\n\u001b[0m\u001b[1;32m     12\u001b[0m     \u001b[0;32mif\u001b[0m \u001b[0;32mnot\u001b[0m \u001b[0mval\u001b[0m\u001b[0;34m.\u001b[0m\u001b[0misdigit\u001b[0m\u001b[0;34m(\u001b[0m\u001b[0;34m)\u001b[0m\u001b[0;34m:\u001b[0m \u001b[0mvalid\u001b[0m \u001b[0;34m=\u001b[0m \u001b[0;32mFalse\u001b[0m\u001b[0;34m\u001b[0m\u001b[0;34m\u001b[0m\u001b[0m\n\u001b[1;32m     13\u001b[0m   \u001b[0mpredict\u001b[0m\u001b[0;34m[\u001b[0m\u001b[0mfeature\u001b[0m\u001b[0;34m]\u001b[0m \u001b[0;34m=\u001b[0m \u001b[0;34m[\u001b[0m\u001b[0mfloat\u001b[0m\u001b[0;34m(\u001b[0m\u001b[0mval\u001b[0m\u001b[0;34m)\u001b[0m\u001b[0;34m]\u001b[0m\u001b[0;34m\u001b[0m\u001b[0;34m\u001b[0m\u001b[0m\n",
            "\u001b[0;32m/usr/local/lib/python3.6/dist-packages/ipykernel/kernelbase.py\u001b[0m in \u001b[0;36mraw_input\u001b[0;34m(self, prompt)\u001b[0m\n\u001b[1;32m    703\u001b[0m             \u001b[0mself\u001b[0m\u001b[0;34m.\u001b[0m\u001b[0m_parent_ident\u001b[0m\u001b[0;34m,\u001b[0m\u001b[0;34m\u001b[0m\u001b[0;34m\u001b[0m\u001b[0m\n\u001b[1;32m    704\u001b[0m             \u001b[0mself\u001b[0m\u001b[0;34m.\u001b[0m\u001b[0m_parent_header\u001b[0m\u001b[0;34m,\u001b[0m\u001b[0;34m\u001b[0m\u001b[0;34m\u001b[0m\u001b[0m\n\u001b[0;32m--> 705\u001b[0;31m             \u001b[0mpassword\u001b[0m\u001b[0;34m=\u001b[0m\u001b[0;32mFalse\u001b[0m\u001b[0;34m,\u001b[0m\u001b[0;34m\u001b[0m\u001b[0;34m\u001b[0m\u001b[0m\n\u001b[0m\u001b[1;32m    706\u001b[0m         )\n\u001b[1;32m    707\u001b[0m \u001b[0;34m\u001b[0m\u001b[0m\n",
            "\u001b[0;32m/usr/local/lib/python3.6/dist-packages/ipykernel/kernelbase.py\u001b[0m in \u001b[0;36m_input_request\u001b[0;34m(self, prompt, ident, parent, password)\u001b[0m\n\u001b[1;32m    733\u001b[0m             \u001b[0;32mexcept\u001b[0m \u001b[0mKeyboardInterrupt\u001b[0m\u001b[0;34m:\u001b[0m\u001b[0;34m\u001b[0m\u001b[0;34m\u001b[0m\u001b[0m\n\u001b[1;32m    734\u001b[0m                 \u001b[0;31m# re-raise KeyboardInterrupt, to truncate traceback\u001b[0m\u001b[0;34m\u001b[0m\u001b[0;34m\u001b[0m\u001b[0;34m\u001b[0m\u001b[0m\n\u001b[0;32m--> 735\u001b[0;31m                 \u001b[0;32mraise\u001b[0m \u001b[0mKeyboardInterrupt\u001b[0m\u001b[0;34m\u001b[0m\u001b[0;34m\u001b[0m\u001b[0m\n\u001b[0m\u001b[1;32m    736\u001b[0m             \u001b[0;32melse\u001b[0m\u001b[0;34m:\u001b[0m\u001b[0;34m\u001b[0m\u001b[0;34m\u001b[0m\u001b[0m\n\u001b[1;32m    737\u001b[0m                 \u001b[0;32mbreak\u001b[0m\u001b[0;34m\u001b[0m\u001b[0;34m\u001b[0m\u001b[0m\n",
            "\u001b[0;31mKeyboardInterrupt\u001b[0m: "
          ]
        }
      ]
    },
    {
      "cell_type": "markdown",
      "metadata": {
        "id": "ebNeKf-NabuU",
        "colab_type": "text"
      },
      "source": [
        "# Clustering\n",
        "Clustering is a Machine Learning technique that involves the grouping of data points. In theory, data points that are in the same group should have similar properties and/or features, while data points in different groups should have highly dissimilar properties and/or features.\n",
        "\n",
        "## Basic Algorithm for K-Means.\n",
        "Step 1: Randomly pick K points to place K centroids\n",
        "\n",
        "Step 2: Assign all the data points to the centroids by distance. The closest centroid to a point is the one it is assigned to.\n",
        "\n",
        "Step 3: Average all the points belonging to each centroid to find the middle of those clusters (center of mass). Place the corresponding centroids into that position.\n",
        "\n",
        "Step 4: Reassign every point once again to the closest centroid.\n",
        "\n",
        "Step 5: Repeat steps 3-4 until no point changes which centroid it belongs to."
      ]
    },
    {
      "cell_type": "markdown",
      "metadata": {
        "id": "LNalBcFvd_Pz",
        "colab_type": "text"
      },
      "source": [
        "# Hidden Markov Model\n",
        "The Hidden Markov Model is a finite set of states, each of which is associated with a (generally multidimensional) probability distribution.\n",
        "\n",
        "A hidden markov model works with probabilities to predict future events or states.\n",
        "\n",
        "In the previous sections we worked with large datasets of 100's of different entries. For a markov model we are only interested in probability distributions that have to do with states.\n",
        "\n",
        "**States:** In each markov model we have a finite set of states. These states could be something like \"warm\" and \"cold\" or \"high\" and \"low\" or even \"red\", \"green\" and \"blue\". These states are \"hidden\" within the model, which means we do not direcly observe them.\n",
        "\n",
        "**Observations:** Each state has a particular outcome or observation associated with it based on a probability distribution.\n",
        "\n",
        "**Transitions:** Each state will have a probability defining the likelyhood of transitioning to a different state. \n",
        "\n",
        "To create a hidden markov model we need.\n",
        "1. States\n",
        "2. Observation Distribution\n",
        "3. Transition Distribution\n"
      ]
    },
    {
      "cell_type": "markdown",
      "metadata": {
        "id": "Zf9nZwag7MdS",
        "colab_type": "text"
      },
      "source": [
        "# Imports and set up"
      ]
    },
    {
      "cell_type": "code",
      "metadata": {
        "id": "Y-0QMYjBe7tL",
        "colab_type": "code",
        "outputId": "5f554698-5052-4013-d681-8054cfa87b63",
        "colab": {
          "base_uri": "https://localhost:8080/",
          "height": 123
        }
      },
      "source": [
        "%tensorflow_version 2.x \n",
        "!pip install tensorflow_probability==0.8.0rc0 --user --upgrade # We are using a different module from tensorflow this time\n",
        "import tensorflow_probability as tfp\n",
        "import tensorflow as tf"
      ],
      "execution_count": 0,
      "outputs": [
        {
          "output_type": "stream",
          "text": [
            "Requirement already up-to-date: tensorflow_probability==0.8.0rc0 in /root/.local/lib/python3.6/site-packages (0.8.0rc0)\n",
            "Requirement already satisfied, skipping upgrade: numpy>=1.13.3 in /usr/local/lib/python3.6/dist-packages (from tensorflow_probability==0.8.0rc0) (1.18.2)\n",
            "Requirement already satisfied, skipping upgrade: cloudpickle==1.1.1 in /root/.local/lib/python3.6/site-packages (from tensorflow_probability==0.8.0rc0) (1.1.1)\n",
            "Requirement already satisfied, skipping upgrade: six>=1.10.0 in /usr/local/lib/python3.6/dist-packages (from tensorflow_probability==0.8.0rc0) (1.12.0)\n",
            "Requirement already satisfied, skipping upgrade: decorator in /usr/local/lib/python3.6/dist-packages (from tensorflow_probability==0.8.0rc0) (4.4.2)\n"
          ],
          "name": "stdout"
        }
      ]
    },
    {
      "cell_type": "markdown",
      "metadata": {
        "id": "mBc0qwxa83fG",
        "colab_type": "text"
      },
      "source": [
        "# Weather model \n",
        "We will model a simple weather system and try to predict the temperature on each day given the following information.\n",
        "\n",
        "1. Cold days are encoded by a 0 and hot days are encoded by a 1.\n",
        "2. The first day in our sequence has an 80% chance of being cold.\n",
        "3. A cold day has a 30% chance of being followed by a hot day.\n",
        "4. A hot day has a 20% chance of being followed by a cold day.\n",
        "5. On each day the temperature is normally distributed with mean and standard deviation 0 and 5 on a cold day and mean and standard deviation 15 and 10 on a hot day."
      ]
    },
    {
      "cell_type": "code",
      "metadata": {
        "id": "AyRAaefH9L3Y",
        "colab_type": "code",
        "colab": {}
      },
      "source": [
        "tfd = tfp.distributions\n",
        "initial_distribution = tfd.Categorical(probs = [0.2, 0.8]) # Refer to point 2 above\n",
        "transition_distribution = tfd.Categorical(probs = [[0.5, 0.5],\n",
        "                                                 [0.2, 0.8]]) # refer to points 3 and 4 above\n",
        "observation_distribution = tfd.Normal(loc = [0., 15.], scale = [5., 10.])\n",
        "# the loc argument represents the mean and the scale is the standard deviation"
      ],
      "execution_count": 0,
      "outputs": []
    },
    {
      "cell_type": "markdown",
      "metadata": {
        "id": "hLbLbsQSdP8x",
        "colab_type": "text"
      },
      "source": [
        "## Create the hidden Marko Model"
      ]
    },
    {
      "cell_type": "code",
      "metadata": {
        "id": "cuOWxB-KdVMe",
        "colab_type": "code",
        "colab": {}
      },
      "source": [
        "model = tfd.HiddenMarkovModel(\n",
        "    initial_distribution = initial_distribution,\n",
        "    transition_distribution = transition_distribution,\n",
        "    observation_distribution = observation_distribution,\n",
        "    num_steps = 7\n",
        ")"
      ],
      "execution_count": 0,
      "outputs": []
    },
    {
      "cell_type": "markdown",
      "metadata": {
        "id": "TEytUderevec",
        "colab_type": "text"
      },
      "source": [
        "The number of steps represents the number of days that we would like to predict information for. In this case we've chosen 7, an entire week.\n",
        "\n",
        "To get the expected temperatures on each day we can do the following."
      ]
    },
    {
      "cell_type": "code",
      "metadata": {
        "id": "bHEx0a0tfDqY",
        "colab_type": "code",
        "outputId": "cfa6a752-812c-417f-a975-712612d1e7f0",
        "colab": {
          "base_uri": "https://localhost:8080/",
          "height": 34
        }
      },
      "source": [
        "mean = model.mean()\n",
        "with tf.compat.v1.Session() as sess:\n",
        "  print(mean.numpy())"
      ],
      "execution_count": 0,
      "outputs": [
        {
          "output_type": "stream",
          "text": [
            "[12.       11.1      10.83     10.748999 10.724699 10.71741  10.715222]\n"
          ],
          "name": "stdout"
        }
      ]
    }
  ]
}